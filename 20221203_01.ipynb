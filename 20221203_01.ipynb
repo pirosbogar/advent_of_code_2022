{
 "cells": [
  {
   "cell_type": "code",
   "execution_count": 42,
   "id": "7b00a9c0",
   "metadata": {},
   "outputs": [],
   "source": [
    "import pandas as pd\n",
    "import numpy as np\n",
    "import string"
   ]
  },
  {
   "cell_type": "code",
   "execution_count": 5,
   "id": "cb5dfa3e",
   "metadata": {},
   "outputs": [],
   "source": [
    "df = pd.read_csv(\n",
    "                \"C:/Users/feherdavid/Downloads/input.txt\", \n",
    "                 sep=' ',\n",
    "                 skip_blank_lines=False, header = None, names=['rucksacks'])"
   ]
  },
  {
   "cell_type": "code",
   "execution_count": 6,
   "id": "04d2d584",
   "metadata": {},
   "outputs": [
    {
     "data": {
      "text/html": [
       "<div>\n",
       "<style scoped>\n",
       "    .dataframe tbody tr th:only-of-type {\n",
       "        vertical-align: middle;\n",
       "    }\n",
       "\n",
       "    .dataframe tbody tr th {\n",
       "        vertical-align: top;\n",
       "    }\n",
       "\n",
       "    .dataframe thead th {\n",
       "        text-align: right;\n",
       "    }\n",
       "</style>\n",
       "<table border=\"1\" class=\"dataframe\">\n",
       "  <thead>\n",
       "    <tr style=\"text-align: right;\">\n",
       "      <th></th>\n",
       "      <th>rucksacks</th>\n",
       "    </tr>\n",
       "  </thead>\n",
       "  <tbody>\n",
       "    <tr>\n",
       "      <th>0</th>\n",
       "      <td>NLBLfrNNLvqwbMfDqSjSzzSJjjggcdVs</td>\n",
       "    </tr>\n",
       "    <tr>\n",
       "      <th>1</th>\n",
       "      <td>lTRGPPZnRRHszcsZdSsccZ</td>\n",
       "    </tr>\n",
       "    <tr>\n",
       "      <th>2</th>\n",
       "      <td>CFTTFtFHTtCtDDzrmBtrBD</td>\n",
       "    </tr>\n",
       "    <tr>\n",
       "      <th>3</th>\n",
       "      <td>BJldgBWnRgWNWtllSlWShMcLcVSvVjbVVVvDVVVL</td>\n",
       "    </tr>\n",
       "    <tr>\n",
       "      <th>4</th>\n",
       "      <td>HFGFwqQPQGwHrTFpwmThMbDDVcVmLvvshj</td>\n",
       "    </tr>\n",
       "  </tbody>\n",
       "</table>\n",
       "</div>"
      ],
      "text/plain": [
       "                                  rucksacks\n",
       "0          NLBLfrNNLvqwbMfDqSjSzzSJjjggcdVs\n",
       "1                    lTRGPPZnRRHszcsZdSsccZ\n",
       "2                    CFTTFtFHTtCtDDzrmBtrBD\n",
       "3  BJldgBWnRgWNWtllSlWShMcLcVSvVjbVVVvDVVVL\n",
       "4        HFGFwqQPQGwHrTFpwmThMbDDVcVmLvvshj"
      ]
     },
     "execution_count": 6,
     "metadata": {},
     "output_type": "execute_result"
    }
   ],
   "source": [
    "df.head()"
   ]
  },
  {
   "cell_type": "code",
   "execution_count": 12,
   "id": "6a5f7917",
   "metadata": {},
   "outputs": [],
   "source": [
    "result = []\n",
    "\n",
    "for x in df['rucksacks']:\n",
    "    chunks, chunk_size = len(x), len(x)//2\n",
    "    \n",
    "    z = [ x[i:i+chunk_size] for i in range(0, chunks, chunk_size) ]\n",
    "    \n",
    "    result.append(z)"
   ]
  },
  {
   "cell_type": "code",
   "execution_count": 15,
   "id": "c5f40a06",
   "metadata": {},
   "outputs": [
    {
     "data": {
      "text/plain": [
       "[['NLBLfrNNLvqwbMfD', 'qSjSzzSJjjggcdVs'],\n",
       " ['lTRGPPZnRRH', 'szcsZdSsccZ'],\n",
       " ['CFTTFtFHTtC', 'tDDzrmBtrBD'],\n",
       " ['BJldgBWnRgWNWtllSlWS', 'hMcLcVSvVjbVVVvDVVVL'],\n",
       " ['HFGFwqQPQGwHrTFpw', 'mThMbDDVcVmLvvshj']]"
      ]
     },
     "execution_count": 15,
     "metadata": {},
     "output_type": "execute_result"
    }
   ],
   "source": [
    "result[:5]"
   ]
  },
  {
   "cell_type": "code",
   "execution_count": 32,
   "id": "9d751c09",
   "metadata": {},
   "outputs": [],
   "source": [
    "df2 = pd.DataFrame(result, columns = ['compartment1', 'compartment2'])"
   ]
  },
  {
   "cell_type": "code",
   "execution_count": 17,
   "id": "e0abe274",
   "metadata": {},
   "outputs": [
    {
     "data": {
      "text/html": [
       "<div>\n",
       "<style scoped>\n",
       "    .dataframe tbody tr th:only-of-type {\n",
       "        vertical-align: middle;\n",
       "    }\n",
       "\n",
       "    .dataframe tbody tr th {\n",
       "        vertical-align: top;\n",
       "    }\n",
       "\n",
       "    .dataframe thead th {\n",
       "        text-align: right;\n",
       "    }\n",
       "</style>\n",
       "<table border=\"1\" class=\"dataframe\">\n",
       "  <thead>\n",
       "    <tr style=\"text-align: right;\">\n",
       "      <th></th>\n",
       "      <th>compartment1</th>\n",
       "      <th>compartment2</th>\n",
       "    </tr>\n",
       "  </thead>\n",
       "  <tbody>\n",
       "    <tr>\n",
       "      <th>0</th>\n",
       "      <td>NLBLfrNNLvqwbMfD</td>\n",
       "      <td>qSjSzzSJjjggcdVs</td>\n",
       "    </tr>\n",
       "    <tr>\n",
       "      <th>1</th>\n",
       "      <td>lTRGPPZnRRH</td>\n",
       "      <td>szcsZdSsccZ</td>\n",
       "    </tr>\n",
       "    <tr>\n",
       "      <th>2</th>\n",
       "      <td>CFTTFtFHTtC</td>\n",
       "      <td>tDDzrmBtrBD</td>\n",
       "    </tr>\n",
       "    <tr>\n",
       "      <th>3</th>\n",
       "      <td>BJldgBWnRgWNWtllSlWS</td>\n",
       "      <td>hMcLcVSvVjbVVVvDVVVL</td>\n",
       "    </tr>\n",
       "    <tr>\n",
       "      <th>4</th>\n",
       "      <td>HFGFwqQPQGwHrTFpw</td>\n",
       "      <td>mThMbDDVcVmLvvshj</td>\n",
       "    </tr>\n",
       "  </tbody>\n",
       "</table>\n",
       "</div>"
      ],
      "text/plain": [
       "           compartment1          compartment2\n",
       "0      NLBLfrNNLvqwbMfD      qSjSzzSJjjggcdVs\n",
       "1           lTRGPPZnRRH           szcsZdSsccZ\n",
       "2           CFTTFtFHTtC           tDDzrmBtrBD\n",
       "3  BJldgBWnRgWNWtllSlWS  hMcLcVSvVjbVVVvDVVVL\n",
       "4     HFGFwqQPQGwHrTFpw     mThMbDDVcVmLvvshj"
      ]
     },
     "execution_count": 17,
     "metadata": {},
     "output_type": "execute_result"
    }
   ],
   "source": [
    "df2.head()"
   ]
  },
  {
   "cell_type": "code",
   "execution_count": 25,
   "id": "77e194b0",
   "metadata": {},
   "outputs": [],
   "source": [
    "match = []\n",
    "\n",
    "for a, b in zip(df2.compartment1, df2.compartment2):\n",
    "    z = set(a).intersection(b)\n",
    "    match.append(z)"
   ]
  },
  {
   "cell_type": "code",
   "execution_count": 26,
   "id": "687db2ee",
   "metadata": {},
   "outputs": [
    {
     "name": "stdout",
     "output_type": "stream",
     "text": [
      "[{'q'}, {'Z'}, {'t'}, {'S'}, {'T'}, {'f'}, {'j'}, {'m'}, {'Z'}, {'W'}, {'J'}, {'c'}, {'S'}, {'q'}, {'j'}, {'p'}, {'q'}, {'Q'}, {'t'}, {'R'}, {'S'}, {'d'}, {'S'}, {'N'}, {'s'}, {'j'}, {'H'}, {'H'}, {'G'}, {'r'}, {'L'}, {'j'}, {'g'}, {'p'}, {'H'}, {'v'}, {'v'}, {'d'}, {'J'}, {'D'}, {'Q'}, {'p'}, {'R'}, {'D'}, {'P'}, {'D'}, {'r'}, {'p'}, {'r'}, {'c'}, {'M'}, {'b'}, {'h'}, {'B'}, {'c'}, {'F'}, {'L'}, {'G'}, {'n'}, {'r'}, {'q'}, {'Z'}, {'r'}, {'s'}, {'W'}, {'h'}, {'R'}, {'j'}, {'Q'}, {'J'}, {'r'}, {'v'}, {'Q'}, {'B'}, {'R'}, {'z'}, {'m'}, {'c'}, {'Z'}, {'R'}, {'h'}, {'w'}, {'G'}, {'z'}, {'G'}, {'g'}, {'f'}, {'V'}, {'P'}, {'J'}, {'S'}, {'F'}, {'Q'}, {'C'}, {'f'}, {'m'}, {'r'}, {'H'}, {'w'}, {'T'}, {'Q'}, {'b'}, {'T'}, {'h'}, {'b'}, {'M'}, {'w'}, {'l'}, {'j'}, {'Q'}, {'s'}, {'C'}, {'b'}, {'S'}, {'d'}, {'P'}, {'N'}, {'n'}, {'H'}, {'q'}, {'B'}, {'C'}, {'r'}, {'q'}, {'d'}, {'h'}, {'s'}, {'b'}, {'T'}, {'s'}, {'z'}, {'g'}, {'v'}, {'P'}, {'g'}, {'W'}, {'d'}, {'C'}, {'V'}, {'L'}, {'B'}, {'N'}, {'c'}, {'d'}, {'L'}, {'Z'}, {'V'}, {'T'}, {'S'}, {'p'}, {'F'}, {'d'}, {'H'}, {'g'}, {'G'}, {'Q'}, {'J'}, {'l'}, {'j'}, {'L'}, {'p'}, {'H'}, {'z'}, {'l'}, {'h'}, {'m'}, {'w'}, {'q'}, {'Q'}, {'h'}, {'g'}, {'b'}, {'G'}, {'r'}, {'m'}, {'v'}, {'L'}, {'P'}, {'t'}, {'F'}, {'G'}, {'T'}, {'P'}, {'t'}, {'F'}, {'S'}, {'D'}, {'V'}, {'B'}, {'w'}, {'W'}, {'F'}, {'n'}, {'f'}, {'T'}, {'n'}, {'V'}, {'p'}, {'c'}, {'b'}, {'L'}, {'R'}, {'Q'}, {'N'}, {'s'}, {'l'}, {'V'}, {'c'}, {'j'}, {'m'}, {'z'}, {'b'}, {'W'}, {'T'}, {'J'}, {'n'}, {'q'}, {'P'}, {'G'}, {'H'}, {'g'}, {'V'}, {'G'}, {'Z'}, {'l'}, {'z'}, {'q'}, {'g'}, {'D'}, {'C'}, {'B'}, {'g'}, {'L'}, {'q'}, {'Z'}, {'R'}, {'N'}, {'P'}, {'n'}, {'F'}, {'V'}, {'S'}, {'D'}, {'m'}, {'T'}, {'s'}, {'M'}, {'P'}, {'D'}, {'P'}, {'j'}, {'C'}, {'g'}, {'j'}, {'S'}, {'F'}, {'f'}, {'C'}, {'L'}, {'T'}, {'c'}, {'W'}, {'v'}, {'N'}, {'P'}, {'R'}, {'v'}, {'M'}, {'g'}, {'Q'}, {'D'}, {'v'}, {'G'}, {'t'}, {'w'}, {'z'}, {'D'}, {'B'}, {'l'}, {'V'}, {'T'}, {'j'}, {'h'}, {'Z'}, {'M'}, {'q'}, {'S'}, {'b'}, {'s'}, {'h'}, {'f'}, {'q'}, {'L'}, {'f'}, {'J'}, {'b'}, {'F'}, {'h'}, {'Z'}, {'B'}]\n"
     ]
    }
   ],
   "source": [
    "print(match)"
   ]
  },
  {
   "cell_type": "code",
   "execution_count": 35,
   "id": "b4f7f9c2",
   "metadata": {},
   "outputs": [],
   "source": [
    "matchlist = []\n",
    "\n",
    "for sublist in match:\n",
    "    for item in sublist:\n",
    "        matchlist.append(item)"
   ]
  },
  {
   "cell_type": "code",
   "execution_count": 36,
   "id": "83542a81",
   "metadata": {},
   "outputs": [
    {
     "name": "stdout",
     "output_type": "stream",
     "text": [
      "['q', 'Z', 't', 'S', 'T', 'f', 'j', 'm', 'Z', 'W', 'J', 'c', 'S', 'q', 'j', 'p', 'q', 'Q', 't', 'R', 'S', 'd', 'S', 'N', 's', 'j', 'H', 'H', 'G', 'r', 'L', 'j', 'g', 'p', 'H', 'v', 'v', 'd', 'J', 'D', 'Q', 'p', 'R', 'D', 'P', 'D', 'r', 'p', 'r', 'c', 'M', 'b', 'h', 'B', 'c', 'F', 'L', 'G', 'n', 'r', 'q', 'Z', 'r', 's', 'W', 'h', 'R', 'j', 'Q', 'J', 'r', 'v', 'Q', 'B', 'R', 'z', 'm', 'c', 'Z', 'R', 'h', 'w', 'G', 'z', 'G', 'g', 'f', 'V', 'P', 'J', 'S', 'F', 'Q', 'C', 'f', 'm', 'r', 'H', 'w', 'T', 'Q', 'b', 'T', 'h', 'b', 'M', 'w', 'l', 'j', 'Q', 's', 'C', 'b', 'S', 'd', 'P', 'N', 'n', 'H', 'q', 'B', 'C', 'r', 'q', 'd', 'h', 's', 'b', 'T', 's', 'z', 'g', 'v', 'P', 'g', 'W', 'd', 'C', 'V', 'L', 'B', 'N', 'c', 'd', 'L', 'Z', 'V', 'T', 'S', 'p', 'F', 'd', 'H', 'g', 'G', 'Q', 'J', 'l', 'j', 'L', 'p', 'H', 'z', 'l', 'h', 'm', 'w', 'q', 'Q', 'h', 'g', 'b', 'G', 'r', 'm', 'v', 'L', 'P', 't', 'F', 'G', 'T', 'P', 't', 'F', 'S', 'D', 'V', 'B', 'w', 'W', 'F', 'n', 'f', 'T', 'n', 'V', 'p', 'c', 'b', 'L', 'R', 'Q', 'N', 's', 'l', 'V', 'c', 'j', 'm', 'z', 'b', 'W', 'T', 'J', 'n', 'q', 'P', 'G', 'H', 'g', 'V', 'G', 'Z', 'l', 'z', 'q', 'g', 'D', 'C', 'B', 'g', 'L', 'q', 'Z', 'R', 'N', 'P', 'n', 'F', 'V', 'S', 'D', 'm', 'T', 's', 'M', 'P', 'D', 'P', 'j', 'C', 'g', 'j', 'S', 'F', 'f', 'C', 'L', 'T', 'c', 'W', 'v', 'N', 'P', 'R', 'v', 'M', 'g', 'Q', 'D', 'v', 'G', 't', 'w', 'z', 'D', 'B', 'l', 'V', 'T', 'j', 'h', 'Z', 'M', 'q', 'S', 'b', 's', 'h', 'f', 'q', 'L', 'f', 'J', 'b', 'F', 'h', 'Z', 'B']\n"
     ]
    }
   ],
   "source": [
    "print(matchlist)"
   ]
  },
  {
   "cell_type": "code",
   "execution_count": 50,
   "id": "47641f3a",
   "metadata": {},
   "outputs": [],
   "source": [
    "alphabet_lower = list(string.ascii_lowercase)\n",
    "alphabet_upper = list(string.ascii_uppercase)\n",
    "\n",
    "alphabet = alphabet_lower + alphabet_upper"
   ]
  },
  {
   "cell_type": "code",
   "execution_count": 51,
   "id": "19720b57",
   "metadata": {},
   "outputs": [
    {
     "name": "stdout",
     "output_type": "stream",
     "text": [
      "['a', 'b', 'c', 'd', 'e', 'f', 'g', 'h', 'i', 'j', 'k', 'l', 'm', 'n', 'o', 'p', 'q', 'r', 's', 't', 'u', 'v', 'w', 'x', 'y', 'z', 'A', 'B', 'C', 'D', 'E', 'F', 'G', 'H', 'I', 'J', 'K', 'L', 'M', 'N', 'O', 'P', 'Q', 'R', 'S', 'T', 'U', 'V', 'W', 'X', 'Y', 'Z']\n"
     ]
    }
   ],
   "source": [
    "print(alphabet)"
   ]
  },
  {
   "cell_type": "code",
   "execution_count": 54,
   "id": "6aecb9f5",
   "metadata": {},
   "outputs": [],
   "source": [
    "points = np.arange(1,53)"
   ]
  },
  {
   "cell_type": "code",
   "execution_count": 55,
   "id": "789464e4",
   "metadata": {},
   "outputs": [
    {
     "name": "stdout",
     "output_type": "stream",
     "text": [
      "[ 1  2  3  4  5  6  7  8  9 10 11 12 13 14 15 16 17 18 19 20 21 22 23 24\n",
      " 25 26 27 28 29 30 31 32 33 34 35 36 37 38 39 40 41 42 43 44 45 46 47 48\n",
      " 49 50 51 52]\n"
     ]
    }
   ],
   "source": [
    "print(points)"
   ]
  },
  {
   "cell_type": "code",
   "execution_count": 58,
   "id": "ad54be6b",
   "metadata": {},
   "outputs": [],
   "source": [
    "priority = pd.DataFrame(list(zip(alphabet, points)), columns = ['alphabet', 'points'])\n"
   ]
  },
  {
   "cell_type": "code",
   "execution_count": 59,
   "id": "5b4558f3",
   "metadata": {},
   "outputs": [
    {
     "name": "stdout",
     "output_type": "stream",
     "text": [
      "   alphabet  points\n",
      "0         a       1\n",
      "1         b       2\n",
      "2         c       3\n",
      "3         d       4\n",
      "4         e       5\n",
      "5         f       6\n",
      "6         g       7\n",
      "7         h       8\n",
      "8         i       9\n",
      "9         j      10\n",
      "10        k      11\n",
      "11        l      12\n",
      "12        m      13\n",
      "13        n      14\n",
      "14        o      15\n",
      "15        p      16\n",
      "16        q      17\n",
      "17        r      18\n",
      "18        s      19\n",
      "19        t      20\n",
      "20        u      21\n",
      "21        v      22\n",
      "22        w      23\n",
      "23        x      24\n",
      "24        y      25\n",
      "25        z      26\n",
      "26        A      27\n",
      "27        B      28\n",
      "28        C      29\n",
      "29        D      30\n",
      "30        E      31\n",
      "31        F      32\n",
      "32        G      33\n",
      "33        H      34\n",
      "34        I      35\n",
      "35        J      36\n",
      "36        K      37\n",
      "37        L      38\n",
      "38        M      39\n",
      "39        N      40\n",
      "40        O      41\n",
      "41        P      42\n",
      "42        Q      43\n",
      "43        R      44\n",
      "44        S      45\n",
      "45        T      46\n",
      "46        U      47\n",
      "47        V      48\n",
      "48        W      49\n",
      "49        X      50\n",
      "50        Y      51\n",
      "51        Z      52\n"
     ]
    }
   ],
   "source": [
    "print(priority)"
   ]
  },
  {
   "cell_type": "code",
   "execution_count": 40,
   "id": "76d1c49d",
   "metadata": {},
   "outputs": [],
   "source": [
    "df2['matches'] = matchlist"
   ]
  },
  {
   "cell_type": "code",
   "execution_count": 41,
   "id": "813f15a7",
   "metadata": {},
   "outputs": [
    {
     "data": {
      "text/html": [
       "<div>\n",
       "<style scoped>\n",
       "    .dataframe tbody tr th:only-of-type {\n",
       "        vertical-align: middle;\n",
       "    }\n",
       "\n",
       "    .dataframe tbody tr th {\n",
       "        vertical-align: top;\n",
       "    }\n",
       "\n",
       "    .dataframe thead th {\n",
       "        text-align: right;\n",
       "    }\n",
       "</style>\n",
       "<table border=\"1\" class=\"dataframe\">\n",
       "  <thead>\n",
       "    <tr style=\"text-align: right;\">\n",
       "      <th></th>\n",
       "      <th>compartment1</th>\n",
       "      <th>compartment2</th>\n",
       "      <th>matches</th>\n",
       "    </tr>\n",
       "  </thead>\n",
       "  <tbody>\n",
       "    <tr>\n",
       "      <th>0</th>\n",
       "      <td>NLBLfrNNLvqwbMfD</td>\n",
       "      <td>qSjSzzSJjjggcdVs</td>\n",
       "      <td>q</td>\n",
       "    </tr>\n",
       "    <tr>\n",
       "      <th>1</th>\n",
       "      <td>lTRGPPZnRRH</td>\n",
       "      <td>szcsZdSsccZ</td>\n",
       "      <td>Z</td>\n",
       "    </tr>\n",
       "    <tr>\n",
       "      <th>2</th>\n",
       "      <td>CFTTFtFHTtC</td>\n",
       "      <td>tDDzrmBtrBD</td>\n",
       "      <td>t</td>\n",
       "    </tr>\n",
       "    <tr>\n",
       "      <th>3</th>\n",
       "      <td>BJldgBWnRgWNWtllSlWS</td>\n",
       "      <td>hMcLcVSvVjbVVVvDVVVL</td>\n",
       "      <td>S</td>\n",
       "    </tr>\n",
       "    <tr>\n",
       "      <th>4</th>\n",
       "      <td>HFGFwqQPQGwHrTFpw</td>\n",
       "      <td>mThMbDDVcVmLvvshj</td>\n",
       "      <td>T</td>\n",
       "    </tr>\n",
       "  </tbody>\n",
       "</table>\n",
       "</div>"
      ],
      "text/plain": [
       "           compartment1          compartment2 matches\n",
       "0      NLBLfrNNLvqwbMfD      qSjSzzSJjjggcdVs       q\n",
       "1           lTRGPPZnRRH           szcsZdSsccZ       Z\n",
       "2           CFTTFtFHTtC           tDDzrmBtrBD       t\n",
       "3  BJldgBWnRgWNWtllSlWS  hMcLcVSvVjbVVVvDVVVL       S\n",
       "4     HFGFwqQPQGwHrTFpw     mThMbDDVcVmLvvshj       T"
      ]
     },
     "execution_count": 41,
     "metadata": {},
     "output_type": "execute_result"
    }
   ],
   "source": [
    "df2.head()"
   ]
  },
  {
   "cell_type": "code",
   "execution_count": 67,
   "id": "754824d8",
   "metadata": {},
   "outputs": [],
   "source": [
    "df3 = df2.merge(priority, left_on='matches', right_on = 'alphabet', how = 'left').drop(columns = ['alphabet'])"
   ]
  },
  {
   "cell_type": "code",
   "execution_count": 68,
   "id": "609fdf86",
   "metadata": {},
   "outputs": [
    {
     "data": {
      "text/html": [
       "<div>\n",
       "<style scoped>\n",
       "    .dataframe tbody tr th:only-of-type {\n",
       "        vertical-align: middle;\n",
       "    }\n",
       "\n",
       "    .dataframe tbody tr th {\n",
       "        vertical-align: top;\n",
       "    }\n",
       "\n",
       "    .dataframe thead th {\n",
       "        text-align: right;\n",
       "    }\n",
       "</style>\n",
       "<table border=\"1\" class=\"dataframe\">\n",
       "  <thead>\n",
       "    <tr style=\"text-align: right;\">\n",
       "      <th></th>\n",
       "      <th>compartment1</th>\n",
       "      <th>compartment2</th>\n",
       "      <th>matches</th>\n",
       "      <th>points</th>\n",
       "    </tr>\n",
       "  </thead>\n",
       "  <tbody>\n",
       "    <tr>\n",
       "      <th>0</th>\n",
       "      <td>NLBLfrNNLvqwbMfD</td>\n",
       "      <td>qSjSzzSJjjggcdVs</td>\n",
       "      <td>q</td>\n",
       "      <td>17</td>\n",
       "    </tr>\n",
       "    <tr>\n",
       "      <th>1</th>\n",
       "      <td>lTRGPPZnRRH</td>\n",
       "      <td>szcsZdSsccZ</td>\n",
       "      <td>Z</td>\n",
       "      <td>52</td>\n",
       "    </tr>\n",
       "    <tr>\n",
       "      <th>2</th>\n",
       "      <td>CFTTFtFHTtC</td>\n",
       "      <td>tDDzrmBtrBD</td>\n",
       "      <td>t</td>\n",
       "      <td>20</td>\n",
       "    </tr>\n",
       "    <tr>\n",
       "      <th>3</th>\n",
       "      <td>BJldgBWnRgWNWtllSlWS</td>\n",
       "      <td>hMcLcVSvVjbVVVvDVVVL</td>\n",
       "      <td>S</td>\n",
       "      <td>45</td>\n",
       "    </tr>\n",
       "    <tr>\n",
       "      <th>4</th>\n",
       "      <td>HFGFwqQPQGwHrTFpw</td>\n",
       "      <td>mThMbDDVcVmLvvshj</td>\n",
       "      <td>T</td>\n",
       "      <td>46</td>\n",
       "    </tr>\n",
       "  </tbody>\n",
       "</table>\n",
       "</div>"
      ],
      "text/plain": [
       "           compartment1          compartment2 matches  points\n",
       "0      NLBLfrNNLvqwbMfD      qSjSzzSJjjggcdVs       q      17\n",
       "1           lTRGPPZnRRH           szcsZdSsccZ       Z      52\n",
       "2           CFTTFtFHTtC           tDDzrmBtrBD       t      20\n",
       "3  BJldgBWnRgWNWtllSlWS  hMcLcVSvVjbVVVvDVVVL       S      45\n",
       "4     HFGFwqQPQGwHrTFpw     mThMbDDVcVmLvvshj       T      46"
      ]
     },
     "execution_count": 68,
     "metadata": {},
     "output_type": "execute_result"
    }
   ],
   "source": [
    "df3.head()"
   ]
  },
  {
   "cell_type": "markdown",
   "id": "e1a88d82",
   "metadata": {},
   "source": [
    "#### Question 1: What is the sum of the priorities of the matching item types?"
   ]
  },
  {
   "cell_type": "code",
   "execution_count": 69,
   "id": "a68396fb",
   "metadata": {},
   "outputs": [
    {
     "data": {
      "text/plain": [
       "compartment1    NLBLfrNNLvqwbMfDlTRGPPZnRRHCFTTFtFHTtCBJldgBWn...\n",
       "compartment2    qSjSzzSJjjggcdVsszcsZdSsccZtDDzrmBtrBDhMcLcVSv...\n",
       "matches         qZtSTfjmZWJcSqjpqQtRSdSNsjHHGrLjgpHvvdJDQpRDPD...\n",
       "points                                                       7990\n",
       "dtype: object"
      ]
     },
     "execution_count": 69,
     "metadata": {},
     "output_type": "execute_result"
    }
   ],
   "source": [
    "df3.sum()"
   ]
  },
  {
   "cell_type": "markdown",
   "id": "cec62d0a",
   "metadata": {},
   "source": [
    "#### Question 2: What is the sum of the priorities of the matching item types among the groups of 3 elves?"
   ]
  },
  {
   "cell_type": "code",
   "execution_count": 85,
   "id": "85cdf4d9",
   "metadata": {},
   "outputs": [],
   "source": [
    "groupings = np.arange(1,101)\n",
    "groupings = np.repeat(groupings, 3)"
   ]
  },
  {
   "cell_type": "code",
   "execution_count": 86,
   "id": "cf094dba",
   "metadata": {},
   "outputs": [
    {
     "name": "stdout",
     "output_type": "stream",
     "text": [
      "300 [1 1 1 2 2 2 3 3 3 4]\n"
     ]
    }
   ],
   "source": [
    "print(len(groupings), groupings[:10])"
   ]
  },
  {
   "cell_type": "code",
   "execution_count": 87,
   "id": "66199ddc",
   "metadata": {},
   "outputs": [],
   "source": [
    "df4 = df\n",
    "df4['groupings'] = groupings"
   ]
  },
  {
   "cell_type": "code",
   "execution_count": 88,
   "id": "1c180335",
   "metadata": {},
   "outputs": [
    {
     "data": {
      "text/html": [
       "<div>\n",
       "<style scoped>\n",
       "    .dataframe tbody tr th:only-of-type {\n",
       "        vertical-align: middle;\n",
       "    }\n",
       "\n",
       "    .dataframe tbody tr th {\n",
       "        vertical-align: top;\n",
       "    }\n",
       "\n",
       "    .dataframe thead th {\n",
       "        text-align: right;\n",
       "    }\n",
       "</style>\n",
       "<table border=\"1\" class=\"dataframe\">\n",
       "  <thead>\n",
       "    <tr style=\"text-align: right;\">\n",
       "      <th></th>\n",
       "      <th>rucksacks</th>\n",
       "      <th>groupings</th>\n",
       "    </tr>\n",
       "  </thead>\n",
       "  <tbody>\n",
       "    <tr>\n",
       "      <th>0</th>\n",
       "      <td>NLBLfrNNLvqwbMfDqSjSzzSJjjggcdVs</td>\n",
       "      <td>1</td>\n",
       "    </tr>\n",
       "    <tr>\n",
       "      <th>1</th>\n",
       "      <td>lTRGPPZnRRHszcsZdSsccZ</td>\n",
       "      <td>1</td>\n",
       "    </tr>\n",
       "    <tr>\n",
       "      <th>2</th>\n",
       "      <td>CFTTFtFHTtCtDDzrmBtrBD</td>\n",
       "      <td>1</td>\n",
       "    </tr>\n",
       "    <tr>\n",
       "      <th>3</th>\n",
       "      <td>BJldgBWnRgWNWtllSlWShMcLcVSvVjbVVVvDVVVL</td>\n",
       "      <td>2</td>\n",
       "    </tr>\n",
       "    <tr>\n",
       "      <th>4</th>\n",
       "      <td>HFGFwqQPQGwHrTFpwmThMbDDVcVmLvvshj</td>\n",
       "      <td>2</td>\n",
       "    </tr>\n",
       "  </tbody>\n",
       "</table>\n",
       "</div>"
      ],
      "text/plain": [
       "                                  rucksacks  groupings\n",
       "0          NLBLfrNNLvqwbMfDqSjSzzSJjjggcdVs          1\n",
       "1                    lTRGPPZnRRHszcsZdSsccZ          1\n",
       "2                    CFTTFtFHTtCtDDzrmBtrBD          1\n",
       "3  BJldgBWnRgWNWtllSlWShMcLcVSvVjbVVVvDVVVL          2\n",
       "4        HFGFwqQPQGwHrTFpwmThMbDDVcVmLvvshj          2"
      ]
     },
     "execution_count": 88,
     "metadata": {},
     "output_type": "execute_result"
    }
   ],
   "source": [
    "df4.head()"
   ]
  },
  {
   "cell_type": "code",
   "execution_count": 89,
   "id": "0a02a800",
   "metadata": {},
   "outputs": [],
   "source": [
    "df5 = df4.pivot(columns = 'groupings', values = 'rucksacks')"
   ]
  },
  {
   "cell_type": "code",
   "execution_count": 90,
   "id": "c251ee7b",
   "metadata": {},
   "outputs": [
    {
     "data": {
      "text/html": [
       "<div>\n",
       "<style scoped>\n",
       "    .dataframe tbody tr th:only-of-type {\n",
       "        vertical-align: middle;\n",
       "    }\n",
       "\n",
       "    .dataframe tbody tr th {\n",
       "        vertical-align: top;\n",
       "    }\n",
       "\n",
       "    .dataframe thead th {\n",
       "        text-align: right;\n",
       "    }\n",
       "</style>\n",
       "<table border=\"1\" class=\"dataframe\">\n",
       "  <thead>\n",
       "    <tr style=\"text-align: right;\">\n",
       "      <th>groupings</th>\n",
       "      <th>1</th>\n",
       "      <th>2</th>\n",
       "      <th>3</th>\n",
       "      <th>4</th>\n",
       "      <th>5</th>\n",
       "      <th>6</th>\n",
       "      <th>7</th>\n",
       "      <th>8</th>\n",
       "      <th>9</th>\n",
       "      <th>10</th>\n",
       "      <th>...</th>\n",
       "      <th>91</th>\n",
       "      <th>92</th>\n",
       "      <th>93</th>\n",
       "      <th>94</th>\n",
       "      <th>95</th>\n",
       "      <th>96</th>\n",
       "      <th>97</th>\n",
       "      <th>98</th>\n",
       "      <th>99</th>\n",
       "      <th>100</th>\n",
       "    </tr>\n",
       "  </thead>\n",
       "  <tbody>\n",
       "    <tr>\n",
       "      <th>0</th>\n",
       "      <td>NLBLfrNNLvqwbMfDqSjSzzSJjjggcdVs</td>\n",
       "      <td>NaN</td>\n",
       "      <td>NaN</td>\n",
       "      <td>NaN</td>\n",
       "      <td>NaN</td>\n",
       "      <td>NaN</td>\n",
       "      <td>NaN</td>\n",
       "      <td>NaN</td>\n",
       "      <td>NaN</td>\n",
       "      <td>NaN</td>\n",
       "      <td>...</td>\n",
       "      <td>NaN</td>\n",
       "      <td>NaN</td>\n",
       "      <td>NaN</td>\n",
       "      <td>NaN</td>\n",
       "      <td>NaN</td>\n",
       "      <td>NaN</td>\n",
       "      <td>NaN</td>\n",
       "      <td>NaN</td>\n",
       "      <td>NaN</td>\n",
       "      <td>NaN</td>\n",
       "    </tr>\n",
       "    <tr>\n",
       "      <th>1</th>\n",
       "      <td>lTRGPPZnRRHszcsZdSsccZ</td>\n",
       "      <td>NaN</td>\n",
       "      <td>NaN</td>\n",
       "      <td>NaN</td>\n",
       "      <td>NaN</td>\n",
       "      <td>NaN</td>\n",
       "      <td>NaN</td>\n",
       "      <td>NaN</td>\n",
       "      <td>NaN</td>\n",
       "      <td>NaN</td>\n",
       "      <td>...</td>\n",
       "      <td>NaN</td>\n",
       "      <td>NaN</td>\n",
       "      <td>NaN</td>\n",
       "      <td>NaN</td>\n",
       "      <td>NaN</td>\n",
       "      <td>NaN</td>\n",
       "      <td>NaN</td>\n",
       "      <td>NaN</td>\n",
       "      <td>NaN</td>\n",
       "      <td>NaN</td>\n",
       "    </tr>\n",
       "    <tr>\n",
       "      <th>2</th>\n",
       "      <td>CFTTFtFHTtCtDDzrmBtrBD</td>\n",
       "      <td>NaN</td>\n",
       "      <td>NaN</td>\n",
       "      <td>NaN</td>\n",
       "      <td>NaN</td>\n",
       "      <td>NaN</td>\n",
       "      <td>NaN</td>\n",
       "      <td>NaN</td>\n",
       "      <td>NaN</td>\n",
       "      <td>NaN</td>\n",
       "      <td>...</td>\n",
       "      <td>NaN</td>\n",
       "      <td>NaN</td>\n",
       "      <td>NaN</td>\n",
       "      <td>NaN</td>\n",
       "      <td>NaN</td>\n",
       "      <td>NaN</td>\n",
       "      <td>NaN</td>\n",
       "      <td>NaN</td>\n",
       "      <td>NaN</td>\n",
       "      <td>NaN</td>\n",
       "    </tr>\n",
       "    <tr>\n",
       "      <th>3</th>\n",
       "      <td>NaN</td>\n",
       "      <td>BJldgBWnRgWNWtllSlWShMcLcVSvVjbVVVvDVVVL</td>\n",
       "      <td>NaN</td>\n",
       "      <td>NaN</td>\n",
       "      <td>NaN</td>\n",
       "      <td>NaN</td>\n",
       "      <td>NaN</td>\n",
       "      <td>NaN</td>\n",
       "      <td>NaN</td>\n",
       "      <td>NaN</td>\n",
       "      <td>...</td>\n",
       "      <td>NaN</td>\n",
       "      <td>NaN</td>\n",
       "      <td>NaN</td>\n",
       "      <td>NaN</td>\n",
       "      <td>NaN</td>\n",
       "      <td>NaN</td>\n",
       "      <td>NaN</td>\n",
       "      <td>NaN</td>\n",
       "      <td>NaN</td>\n",
       "      <td>NaN</td>\n",
       "    </tr>\n",
       "    <tr>\n",
       "      <th>4</th>\n",
       "      <td>NaN</td>\n",
       "      <td>HFGFwqQPQGwHrTFpwmThMbDDVcVmLvvshj</td>\n",
       "      <td>NaN</td>\n",
       "      <td>NaN</td>\n",
       "      <td>NaN</td>\n",
       "      <td>NaN</td>\n",
       "      <td>NaN</td>\n",
       "      <td>NaN</td>\n",
       "      <td>NaN</td>\n",
       "      <td>NaN</td>\n",
       "      <td>...</td>\n",
       "      <td>NaN</td>\n",
       "      <td>NaN</td>\n",
       "      <td>NaN</td>\n",
       "      <td>NaN</td>\n",
       "      <td>NaN</td>\n",
       "      <td>NaN</td>\n",
       "      <td>NaN</td>\n",
       "      <td>NaN</td>\n",
       "      <td>NaN</td>\n",
       "      <td>NaN</td>\n",
       "    </tr>\n",
       "  </tbody>\n",
       "</table>\n",
       "<p>5 rows × 100 columns</p>\n",
       "</div>"
      ],
      "text/plain": [
       "groupings                               1    \\\n",
       "0          NLBLfrNNLvqwbMfDqSjSzzSJjjggcdVs   \n",
       "1                    lTRGPPZnRRHszcsZdSsccZ   \n",
       "2                    CFTTFtFHTtCtDDzrmBtrBD   \n",
       "3                                       NaN   \n",
       "4                                       NaN   \n",
       "\n",
       "groupings                                       2    3    4    5    6    7    \\\n",
       "0                                               NaN  NaN  NaN  NaN  NaN  NaN   \n",
       "1                                               NaN  NaN  NaN  NaN  NaN  NaN   \n",
       "2                                               NaN  NaN  NaN  NaN  NaN  NaN   \n",
       "3          BJldgBWnRgWNWtllSlWShMcLcVSvVjbVVVvDVVVL  NaN  NaN  NaN  NaN  NaN   \n",
       "4                HFGFwqQPQGwHrTFpwmThMbDDVcVmLvvshj  NaN  NaN  NaN  NaN  NaN   \n",
       "\n",
       "groupings  8    9    10   ...  91   92   93   94   95   96   97   98   99   \\\n",
       "0          NaN  NaN  NaN  ...  NaN  NaN  NaN  NaN  NaN  NaN  NaN  NaN  NaN   \n",
       "1          NaN  NaN  NaN  ...  NaN  NaN  NaN  NaN  NaN  NaN  NaN  NaN  NaN   \n",
       "2          NaN  NaN  NaN  ...  NaN  NaN  NaN  NaN  NaN  NaN  NaN  NaN  NaN   \n",
       "3          NaN  NaN  NaN  ...  NaN  NaN  NaN  NaN  NaN  NaN  NaN  NaN  NaN   \n",
       "4          NaN  NaN  NaN  ...  NaN  NaN  NaN  NaN  NaN  NaN  NaN  NaN  NaN   \n",
       "\n",
       "groupings  100  \n",
       "0          NaN  \n",
       "1          NaN  \n",
       "2          NaN  \n",
       "3          NaN  \n",
       "4          NaN  \n",
       "\n",
       "[5 rows x 100 columns]"
      ]
     },
     "execution_count": 90,
     "metadata": {},
     "output_type": "execute_result"
    }
   ],
   "source": [
    "df5.head()"
   ]
  },
  {
   "cell_type": "code",
   "execution_count": null,
   "id": "1d423cee",
   "metadata": {},
   "outputs": [],
   "source": []
  },
  {
   "cell_type": "code",
   "execution_count": null,
   "id": "87cccaf9",
   "metadata": {},
   "outputs": [],
   "source": []
  }
 ],
 "metadata": {
  "kernelspec": {
   "display_name": "Python 3 (ipykernel)",
   "language": "python",
   "name": "python3"
  },
  "language_info": {
   "codemirror_mode": {
    "name": "ipython",
    "version": 3
   },
   "file_extension": ".py",
   "mimetype": "text/x-python",
   "name": "python",
   "nbconvert_exporter": "python",
   "pygments_lexer": "ipython3",
   "version": "3.9.12"
  }
 },
 "nbformat": 4,
 "nbformat_minor": 5
}
