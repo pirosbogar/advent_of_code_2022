{
 "cells": [
  {
   "cell_type": "code",
   "execution_count": 20,
   "id": "026b9b9d",
   "metadata": {},
   "outputs": [],
   "source": [
    "import pandas as pd\n",
    "import numpy as np\n",
    "import requests\n",
    "import csv\n",
    "import string"
   ]
  },
  {
   "cell_type": "code",
   "execution_count": 21,
   "id": "6c396440",
   "metadata": {},
   "outputs": [],
   "source": [
    "df = pd.read_csv(\n",
    "                \"https://raw.githubusercontent.com/pirosbogar/advent_of_code_2022/main/inputs/04/input.txt\", \n",
    "                 sep=',',\n",
    "                 skip_blank_lines=False, header = None, names=['elf1', 'elf2'])"
   ]
  },
  {
   "cell_type": "code",
   "execution_count": 71,
   "id": "c2baa4b8",
   "metadata": {},
   "outputs": [
    {
     "data": {
      "text/html": [
       "<div>\n",
       "<style scoped>\n",
       "    .dataframe tbody tr th:only-of-type {\n",
       "        vertical-align: middle;\n",
       "    }\n",
       "\n",
       "    .dataframe tbody tr th {\n",
       "        vertical-align: top;\n",
       "    }\n",
       "\n",
       "    .dataframe thead th {\n",
       "        text-align: right;\n",
       "    }\n",
       "</style>\n",
       "<table border=\"1\" class=\"dataframe\">\n",
       "  <thead>\n",
       "    <tr style=\"text-align: right;\">\n",
       "      <th></th>\n",
       "      <th>elf1</th>\n",
       "      <th>elf2</th>\n",
       "    </tr>\n",
       "  </thead>\n",
       "  <tbody>\n",
       "    <tr>\n",
       "      <th>0</th>\n",
       "      <td>14-28</td>\n",
       "      <td>13-28</td>\n",
       "    </tr>\n",
       "    <tr>\n",
       "      <th>1</th>\n",
       "      <td>72-81</td>\n",
       "      <td>82-91</td>\n",
       "    </tr>\n",
       "    <tr>\n",
       "      <th>2</th>\n",
       "      <td>4-4</td>\n",
       "      <td>6-95</td>\n",
       "    </tr>\n",
       "    <tr>\n",
       "      <th>3</th>\n",
       "      <td>47-49</td>\n",
       "      <td>48-59</td>\n",
       "    </tr>\n",
       "    <tr>\n",
       "      <th>4</th>\n",
       "      <td>26-36</td>\n",
       "      <td>37-76</td>\n",
       "    </tr>\n",
       "  </tbody>\n",
       "</table>\n",
       "</div>"
      ],
      "text/plain": [
       "    elf1   elf2\n",
       "0  14-28  13-28\n",
       "1  72-81  82-91\n",
       "2    4-4   6-95\n",
       "3  47-49  48-59\n",
       "4  26-36  37-76"
      ]
     },
     "execution_count": 71,
     "metadata": {},
     "output_type": "execute_result"
    }
   ],
   "source": [
    "df.head()"
   ]
  },
  {
   "cell_type": "markdown",
   "id": "189b651c",
   "metadata": {},
   "source": [
    "#### In how many assignment pairs does one range fully contain the other?"
   ]
  },
  {
   "cell_type": "code",
   "execution_count": 38,
   "id": "66885c38",
   "metadata": {},
   "outputs": [],
   "source": [
    "elf1_split = df[\"elf1\"].str.split(\"-\", n = 1, expand = True)\n",
    "elf2_split = df[\"elf2\"].str.split(\"-\", n = 1, expand = True)"
   ]
  },
  {
   "cell_type": "code",
   "execution_count": 39,
   "id": "3ec7d66c",
   "metadata": {},
   "outputs": [
    {
     "name": "stdout",
     "output_type": "stream",
     "text": [
      "    0   1\n",
      "0  14  28\n",
      "1  72  81\n",
      "2   4   4\n",
      "3  47  49\n",
      "4  26  36\n",
      "0    object\n",
      "1    object\n",
      "dtype: object\n"
     ]
    }
   ],
   "source": [
    "print(elf1_split.head())\n",
    "print(elf1_split.dtypes)"
   ]
  },
  {
   "cell_type": "code",
   "execution_count": 40,
   "id": "ae5cf4ea",
   "metadata": {},
   "outputs": [
    {
     "data": {
      "text/plain": [
       "0    object\n",
       "1    object\n",
       "dtype: object"
      ]
     },
     "execution_count": 40,
     "metadata": {},
     "output_type": "execute_result"
    }
   ],
   "source": [
    "elf1_split.dtypes"
   ]
  },
  {
   "cell_type": "code",
   "execution_count": 41,
   "id": "a1dfc5fc",
   "metadata": {},
   "outputs": [],
   "source": [
    "elf1_split.columns = ['space1', 'space2']\n",
    "elf2_split.columns = ['space1', 'space2']"
   ]
  },
  {
   "cell_type": "code",
   "execution_count": 42,
   "id": "5e4d3b29",
   "metadata": {},
   "outputs": [
    {
     "data": {
      "text/html": [
       "<div>\n",
       "<style scoped>\n",
       "    .dataframe tbody tr th:only-of-type {\n",
       "        vertical-align: middle;\n",
       "    }\n",
       "\n",
       "    .dataframe tbody tr th {\n",
       "        vertical-align: top;\n",
       "    }\n",
       "\n",
       "    .dataframe thead th {\n",
       "        text-align: right;\n",
       "    }\n",
       "</style>\n",
       "<table border=\"1\" class=\"dataframe\">\n",
       "  <thead>\n",
       "    <tr style=\"text-align: right;\">\n",
       "      <th></th>\n",
       "      <th>space1</th>\n",
       "      <th>space2</th>\n",
       "    </tr>\n",
       "  </thead>\n",
       "  <tbody>\n",
       "    <tr>\n",
       "      <th>0</th>\n",
       "      <td>14</td>\n",
       "      <td>28</td>\n",
       "    </tr>\n",
       "    <tr>\n",
       "      <th>1</th>\n",
       "      <td>72</td>\n",
       "      <td>81</td>\n",
       "    </tr>\n",
       "    <tr>\n",
       "      <th>2</th>\n",
       "      <td>4</td>\n",
       "      <td>4</td>\n",
       "    </tr>\n",
       "    <tr>\n",
       "      <th>3</th>\n",
       "      <td>47</td>\n",
       "      <td>49</td>\n",
       "    </tr>\n",
       "    <tr>\n",
       "      <th>4</th>\n",
       "      <td>26</td>\n",
       "      <td>36</td>\n",
       "    </tr>\n",
       "  </tbody>\n",
       "</table>\n",
       "</div>"
      ],
      "text/plain": [
       "  space1 space2\n",
       "0     14     28\n",
       "1     72     81\n",
       "2      4      4\n",
       "3     47     49\n",
       "4     26     36"
      ]
     },
     "execution_count": 42,
     "metadata": {},
     "output_type": "execute_result"
    }
   ],
   "source": [
    "elf1_split.head()"
   ]
  },
  {
   "cell_type": "code",
   "execution_count": 46,
   "id": "57fb7ce7",
   "metadata": {},
   "outputs": [],
   "source": [
    "elf1_split = elf1_split[['space1', 'space2']].astype(int)\n",
    "\n",
    "elf2_split = elf2_split[['space1', 'space2']].astype(int)"
   ]
  },
  {
   "cell_type": "code",
   "execution_count": 47,
   "id": "9a3be3a3",
   "metadata": {},
   "outputs": [
    {
     "name": "stdout",
     "output_type": "stream",
     "text": [
      "   space1  space2\n",
      "0      14      28\n",
      "1      72      81\n",
      "2       4       4\n",
      "3      47      49\n",
      "4      26      36\n",
      "space1    int32\n",
      "space2    int32\n",
      "dtype: object\n"
     ]
    }
   ],
   "source": [
    "print(elf1_split.head())\n",
    "print(elf1_split.dtypes)"
   ]
  },
  {
   "cell_type": "code",
   "execution_count": 53,
   "id": "780bcb87",
   "metadata": {},
   "outputs": [],
   "source": [
    "elf1_result = []\n",
    "\n",
    "for a, b in zip(elf1_split.space1, elf1_split.space2):\n",
    "    elf1_result.append(np.arange(a, int(b)+1))\n",
    "    "
   ]
  },
  {
   "cell_type": "code",
   "execution_count": 54,
   "id": "f3a51751",
   "metadata": {},
   "outputs": [
    {
     "data": {
      "text/plain": [
       "[array([14, 15, 16, 17, 18, 19, 20, 21, 22, 23, 24, 25, 26, 27, 28]),\n",
       " array([72, 73, 74, 75, 76, 77, 78, 79, 80, 81]),\n",
       " array([4]),\n",
       " array([47, 48, 49]),\n",
       " array([26, 27, 28, 29, 30, 31, 32, 33, 34, 35, 36])]"
      ]
     },
     "execution_count": 54,
     "metadata": {},
     "output_type": "execute_result"
    }
   ],
   "source": [
    "result[:5]"
   ]
  },
  {
   "cell_type": "code",
   "execution_count": 55,
   "id": "3e9f18a2",
   "metadata": {},
   "outputs": [],
   "source": [
    "elf2_result = []\n",
    "\n",
    "for a, b in zip(elf2_split.space1, elf2_split.space2):\n",
    "    elf2_result.append(np.arange(a, int(b)+1))"
   ]
  },
  {
   "cell_type": "code",
   "execution_count": 56,
   "id": "2f0c199a",
   "metadata": {},
   "outputs": [
    {
     "data": {
      "text/html": [
       "<div>\n",
       "<style scoped>\n",
       "    .dataframe tbody tr th:only-of-type {\n",
       "        vertical-align: middle;\n",
       "    }\n",
       "\n",
       "    .dataframe tbody tr th {\n",
       "        vertical-align: top;\n",
       "    }\n",
       "\n",
       "    .dataframe thead th {\n",
       "        text-align: right;\n",
       "    }\n",
       "</style>\n",
       "<table border=\"1\" class=\"dataframe\">\n",
       "  <thead>\n",
       "    <tr style=\"text-align: right;\">\n",
       "      <th></th>\n",
       "      <th>0</th>\n",
       "    </tr>\n",
       "  </thead>\n",
       "  <tbody>\n",
       "    <tr>\n",
       "      <th>0</th>\n",
       "      <td>14</td>\n",
       "    </tr>\n",
       "    <tr>\n",
       "      <th>1</th>\n",
       "      <td>15</td>\n",
       "    </tr>\n",
       "    <tr>\n",
       "      <th>2</th>\n",
       "      <td>16</td>\n",
       "    </tr>\n",
       "    <tr>\n",
       "      <th>3</th>\n",
       "      <td>17</td>\n",
       "    </tr>\n",
       "    <tr>\n",
       "      <th>4</th>\n",
       "      <td>18</td>\n",
       "    </tr>\n",
       "    <tr>\n",
       "      <th>...</th>\n",
       "      <td>...</td>\n",
       "    </tr>\n",
       "    <tr>\n",
       "      <th>36625</th>\n",
       "      <td>91</td>\n",
       "    </tr>\n",
       "    <tr>\n",
       "      <th>36626</th>\n",
       "      <td>92</td>\n",
       "    </tr>\n",
       "    <tr>\n",
       "      <th>36627</th>\n",
       "      <td>93</td>\n",
       "    </tr>\n",
       "    <tr>\n",
       "      <th>36628</th>\n",
       "      <td>94</td>\n",
       "    </tr>\n",
       "    <tr>\n",
       "      <th>36629</th>\n",
       "      <td>95</td>\n",
       "    </tr>\n",
       "  </tbody>\n",
       "</table>\n",
       "<p>36630 rows × 1 columns</p>\n",
       "</div>"
      ],
      "text/plain": [
       "        0\n",
       "0      14\n",
       "1      15\n",
       "2      16\n",
       "3      17\n",
       "4      18\n",
       "...    ..\n",
       "36625  91\n",
       "36626  92\n",
       "36627  93\n",
       "36628  94\n",
       "36629  95\n",
       "\n",
       "[36630 rows x 1 columns]"
      ]
     },
     "execution_count": 56,
     "metadata": {},
     "output_type": "execute_result"
    }
   ],
   "source": [
    "pd.DataFrame(np.concatenate(elf1_result))"
   ]
  },
  {
   "cell_type": "code",
   "execution_count": 60,
   "id": "80bd83de",
   "metadata": {},
   "outputs": [],
   "source": [
    "df2 = pd.DataFrame(zip(elf1_result, elf2_result), columns = ['elf1', 'elf2'])"
   ]
  },
  {
   "cell_type": "code",
   "execution_count": 61,
   "id": "3d6ea17b",
   "metadata": {},
   "outputs": [
    {
     "data": {
      "text/html": [
       "<div>\n",
       "<style scoped>\n",
       "    .dataframe tbody tr th:only-of-type {\n",
       "        vertical-align: middle;\n",
       "    }\n",
       "\n",
       "    .dataframe tbody tr th {\n",
       "        vertical-align: top;\n",
       "    }\n",
       "\n",
       "    .dataframe thead th {\n",
       "        text-align: right;\n",
       "    }\n",
       "</style>\n",
       "<table border=\"1\" class=\"dataframe\">\n",
       "  <thead>\n",
       "    <tr style=\"text-align: right;\">\n",
       "      <th></th>\n",
       "      <th>elf1</th>\n",
       "      <th>elf2</th>\n",
       "    </tr>\n",
       "  </thead>\n",
       "  <tbody>\n",
       "    <tr>\n",
       "      <th>0</th>\n",
       "      <td>[14, 15, 16, 17, 18, 19, 20, 21, 22, 23, 24, 2...</td>\n",
       "      <td>[13, 14, 15, 16, 17, 18, 19, 20, 21, 22, 23, 2...</td>\n",
       "    </tr>\n",
       "    <tr>\n",
       "      <th>1</th>\n",
       "      <td>[72, 73, 74, 75, 76, 77, 78, 79, 80, 81]</td>\n",
       "      <td>[82, 83, 84, 85, 86, 87, 88, 89, 90, 91]</td>\n",
       "    </tr>\n",
       "    <tr>\n",
       "      <th>2</th>\n",
       "      <td>[4]</td>\n",
       "      <td>[6, 7, 8, 9, 10, 11, 12, 13, 14, 15, 16, 17, 1...</td>\n",
       "    </tr>\n",
       "    <tr>\n",
       "      <th>3</th>\n",
       "      <td>[47, 48, 49]</td>\n",
       "      <td>[48, 49, 50, 51, 52, 53, 54, 55, 56, 57, 58, 59]</td>\n",
       "    </tr>\n",
       "    <tr>\n",
       "      <th>4</th>\n",
       "      <td>[26, 27, 28, 29, 30, 31, 32, 33, 34, 35, 36]</td>\n",
       "      <td>[37, 38, 39, 40, 41, 42, 43, 44, 45, 46, 47, 4...</td>\n",
       "    </tr>\n",
       "  </tbody>\n",
       "</table>\n",
       "</div>"
      ],
      "text/plain": [
       "                                                elf1  \\\n",
       "0  [14, 15, 16, 17, 18, 19, 20, 21, 22, 23, 24, 2...   \n",
       "1           [72, 73, 74, 75, 76, 77, 78, 79, 80, 81]   \n",
       "2                                                [4]   \n",
       "3                                       [47, 48, 49]   \n",
       "4       [26, 27, 28, 29, 30, 31, 32, 33, 34, 35, 36]   \n",
       "\n",
       "                                                elf2  \n",
       "0  [13, 14, 15, 16, 17, 18, 19, 20, 21, 22, 23, 2...  \n",
       "1           [82, 83, 84, 85, 86, 87, 88, 89, 90, 91]  \n",
       "2  [6, 7, 8, 9, 10, 11, 12, 13, 14, 15, 16, 17, 1...  \n",
       "3   [48, 49, 50, 51, 52, 53, 54, 55, 56, 57, 58, 59]  \n",
       "4  [37, 38, 39, 40, 41, 42, 43, 44, 45, 46, 47, 4...  "
      ]
     },
     "execution_count": 61,
     "metadata": {},
     "output_type": "execute_result"
    }
   ],
   "source": [
    "df2.head()"
   ]
  },
  {
   "cell_type": "code",
   "execution_count": 62,
   "id": "30f3e7b0",
   "metadata": {},
   "outputs": [],
   "source": [
    "def intersection(lst1, lst2):\n",
    "    lst3 = [value for value in lst1 if value in lst2]\n",
    "    return lst3"
   ]
  },
  {
   "cell_type": "code",
   "execution_count": 65,
   "id": "7931a4dd",
   "metadata": {},
   "outputs": [],
   "source": [
    "contains = []\n",
    "\n",
    "for a, b in zip(df2.elf1, df2.elf2):\n",
    "    if intersection(a, b) == list(a):\n",
    "        contains.append(1)\n",
    "    elif intersection(a, b) == list(b):\n",
    "        contains.append(1)\n",
    "    else:\n",
    "        contains.append(0)"
   ]
  },
  {
   "cell_type": "code",
   "execution_count": 66,
   "id": "8fe64bf5",
   "metadata": {},
   "outputs": [
    {
     "data": {
      "text/plain": [
       "[1, 0, 0, 0, 0, 1, 0, 0, 0, 0]"
      ]
     },
     "execution_count": 66,
     "metadata": {},
     "output_type": "execute_result"
    }
   ],
   "source": [
    "contains[:10]"
   ]
  },
  {
   "cell_type": "code",
   "execution_count": 67,
   "id": "19bb9e66",
   "metadata": {},
   "outputs": [],
   "source": [
    "df3 = df2\n",
    "df3['contains'] = contains"
   ]
  },
  {
   "cell_type": "code",
   "execution_count": 68,
   "id": "86a6b513",
   "metadata": {},
   "outputs": [
    {
     "data": {
      "text/html": [
       "<div>\n",
       "<style scoped>\n",
       "    .dataframe tbody tr th:only-of-type {\n",
       "        vertical-align: middle;\n",
       "    }\n",
       "\n",
       "    .dataframe tbody tr th {\n",
       "        vertical-align: top;\n",
       "    }\n",
       "\n",
       "    .dataframe thead th {\n",
       "        text-align: right;\n",
       "    }\n",
       "</style>\n",
       "<table border=\"1\" class=\"dataframe\">\n",
       "  <thead>\n",
       "    <tr style=\"text-align: right;\">\n",
       "      <th></th>\n",
       "      <th>elf1</th>\n",
       "      <th>elf2</th>\n",
       "      <th>contains</th>\n",
       "    </tr>\n",
       "  </thead>\n",
       "  <tbody>\n",
       "    <tr>\n",
       "      <th>0</th>\n",
       "      <td>[14, 15, 16, 17, 18, 19, 20, 21, 22, 23, 24, 2...</td>\n",
       "      <td>[13, 14, 15, 16, 17, 18, 19, 20, 21, 22, 23, 2...</td>\n",
       "      <td>1</td>\n",
       "    </tr>\n",
       "    <tr>\n",
       "      <th>1</th>\n",
       "      <td>[72, 73, 74, 75, 76, 77, 78, 79, 80, 81]</td>\n",
       "      <td>[82, 83, 84, 85, 86, 87, 88, 89, 90, 91]</td>\n",
       "      <td>0</td>\n",
       "    </tr>\n",
       "    <tr>\n",
       "      <th>2</th>\n",
       "      <td>[4]</td>\n",
       "      <td>[6, 7, 8, 9, 10, 11, 12, 13, 14, 15, 16, 17, 1...</td>\n",
       "      <td>0</td>\n",
       "    </tr>\n",
       "    <tr>\n",
       "      <th>3</th>\n",
       "      <td>[47, 48, 49]</td>\n",
       "      <td>[48, 49, 50, 51, 52, 53, 54, 55, 56, 57, 58, 59]</td>\n",
       "      <td>0</td>\n",
       "    </tr>\n",
       "    <tr>\n",
       "      <th>4</th>\n",
       "      <td>[26, 27, 28, 29, 30, 31, 32, 33, 34, 35, 36]</td>\n",
       "      <td>[37, 38, 39, 40, 41, 42, 43, 44, 45, 46, 47, 4...</td>\n",
       "      <td>0</td>\n",
       "    </tr>\n",
       "  </tbody>\n",
       "</table>\n",
       "</div>"
      ],
      "text/plain": [
       "                                                elf1  \\\n",
       "0  [14, 15, 16, 17, 18, 19, 20, 21, 22, 23, 24, 2...   \n",
       "1           [72, 73, 74, 75, 76, 77, 78, 79, 80, 81]   \n",
       "2                                                [4]   \n",
       "3                                       [47, 48, 49]   \n",
       "4       [26, 27, 28, 29, 30, 31, 32, 33, 34, 35, 36]   \n",
       "\n",
       "                                                elf2  contains  \n",
       "0  [13, 14, 15, 16, 17, 18, 19, 20, 21, 22, 23, 2...         1  \n",
       "1           [82, 83, 84, 85, 86, 87, 88, 89, 90, 91]         0  \n",
       "2  [6, 7, 8, 9, 10, 11, 12, 13, 14, 15, 16, 17, 1...         0  \n",
       "3   [48, 49, 50, 51, 52, 53, 54, 55, 56, 57, 58, 59]         0  \n",
       "4  [37, 38, 39, 40, 41, 42, 43, 44, 45, 46, 47, 4...         0  "
      ]
     },
     "execution_count": 68,
     "metadata": {},
     "output_type": "execute_result"
    }
   ],
   "source": [
    "df3.head()"
   ]
  },
  {
   "cell_type": "code",
   "execution_count": 70,
   "id": "6d4c4f8f",
   "metadata": {},
   "outputs": [
    {
     "data": {
      "text/plain": [
       "305"
      ]
     },
     "execution_count": 70,
     "metadata": {},
     "output_type": "execute_result"
    }
   ],
   "source": [
    "df3['contains'].sum()"
   ]
  },
  {
   "cell_type": "markdown",
   "id": "ea56aa4c",
   "metadata": {},
   "source": [
    "#### In how many assignment pairs do the ranges overlap?"
   ]
  },
  {
   "cell_type": "code",
   "execution_count": 75,
   "id": "bce7a7c6",
   "metadata": {},
   "outputs": [
    {
     "data": {
      "text/plain": [
       "0"
      ]
     },
     "execution_count": 75,
     "metadata": {},
     "output_type": "execute_result"
    }
   ],
   "source": [
    "len(intersection([1,2,3], [4,5,6]))"
   ]
  },
  {
   "cell_type": "code",
   "execution_count": 82,
   "id": "69522eed",
   "metadata": {},
   "outputs": [],
   "source": [
    "overlap = []\n",
    "\n",
    "for a, b in zip(df2.elf1, df2.elf2):\n",
    "    if len(intersection(a, b)):\n",
    "        overlap.append(1)\n",
    "    else:\n",
    "        overlap.append(0)"
   ]
  },
  {
   "cell_type": "code",
   "execution_count": 83,
   "id": "a5059ba5",
   "metadata": {},
   "outputs": [
    {
     "data": {
      "text/plain": [
       "[1, 0, 0, 1, 0]"
      ]
     },
     "execution_count": 83,
     "metadata": {},
     "output_type": "execute_result"
    }
   ],
   "source": [
    "overlap[:5]"
   ]
  },
  {
   "cell_type": "code",
   "execution_count": 84,
   "id": "30143401",
   "metadata": {},
   "outputs": [
    {
     "data": {
      "text/html": [
       "<div>\n",
       "<style scoped>\n",
       "    .dataframe tbody tr th:only-of-type {\n",
       "        vertical-align: middle;\n",
       "    }\n",
       "\n",
       "    .dataframe tbody tr th {\n",
       "        vertical-align: top;\n",
       "    }\n",
       "\n",
       "    .dataframe thead th {\n",
       "        text-align: right;\n",
       "    }\n",
       "</style>\n",
       "<table border=\"1\" class=\"dataframe\">\n",
       "  <thead>\n",
       "    <tr style=\"text-align: right;\">\n",
       "      <th></th>\n",
       "      <th>elf1</th>\n",
       "      <th>elf2</th>\n",
       "      <th>contains</th>\n",
       "      <th>overlap</th>\n",
       "    </tr>\n",
       "  </thead>\n",
       "  <tbody>\n",
       "    <tr>\n",
       "      <th>0</th>\n",
       "      <td>[14, 15, 16, 17, 18, 19, 20, 21, 22, 23, 24, 2...</td>\n",
       "      <td>[13, 14, 15, 16, 17, 18, 19, 20, 21, 22, 23, 2...</td>\n",
       "      <td>1</td>\n",
       "      <td>1</td>\n",
       "    </tr>\n",
       "    <tr>\n",
       "      <th>1</th>\n",
       "      <td>[72, 73, 74, 75, 76, 77, 78, 79, 80, 81]</td>\n",
       "      <td>[82, 83, 84, 85, 86, 87, 88, 89, 90, 91]</td>\n",
       "      <td>0</td>\n",
       "      <td>0</td>\n",
       "    </tr>\n",
       "    <tr>\n",
       "      <th>2</th>\n",
       "      <td>[4]</td>\n",
       "      <td>[6, 7, 8, 9, 10, 11, 12, 13, 14, 15, 16, 17, 1...</td>\n",
       "      <td>0</td>\n",
       "      <td>0</td>\n",
       "    </tr>\n",
       "    <tr>\n",
       "      <th>3</th>\n",
       "      <td>[47, 48, 49]</td>\n",
       "      <td>[48, 49, 50, 51, 52, 53, 54, 55, 56, 57, 58, 59]</td>\n",
       "      <td>0</td>\n",
       "      <td>1</td>\n",
       "    </tr>\n",
       "    <tr>\n",
       "      <th>4</th>\n",
       "      <td>[26, 27, 28, 29, 30, 31, 32, 33, 34, 35, 36]</td>\n",
       "      <td>[37, 38, 39, 40, 41, 42, 43, 44, 45, 46, 47, 4...</td>\n",
       "      <td>0</td>\n",
       "      <td>0</td>\n",
       "    </tr>\n",
       "  </tbody>\n",
       "</table>\n",
       "</div>"
      ],
      "text/plain": [
       "                                                elf1  \\\n",
       "0  [14, 15, 16, 17, 18, 19, 20, 21, 22, 23, 24, 2...   \n",
       "1           [72, 73, 74, 75, 76, 77, 78, 79, 80, 81]   \n",
       "2                                                [4]   \n",
       "3                                       [47, 48, 49]   \n",
       "4       [26, 27, 28, 29, 30, 31, 32, 33, 34, 35, 36]   \n",
       "\n",
       "                                                elf2  contains  overlap  \n",
       "0  [13, 14, 15, 16, 17, 18, 19, 20, 21, 22, 23, 2...         1        1  \n",
       "1           [82, 83, 84, 85, 86, 87, 88, 89, 90, 91]         0        0  \n",
       "2  [6, 7, 8, 9, 10, 11, 12, 13, 14, 15, 16, 17, 1...         0        0  \n",
       "3   [48, 49, 50, 51, 52, 53, 54, 55, 56, 57, 58, 59]         0        1  \n",
       "4  [37, 38, 39, 40, 41, 42, 43, 44, 45, 46, 47, 4...         0        0  "
      ]
     },
     "execution_count": 84,
     "metadata": {},
     "output_type": "execute_result"
    }
   ],
   "source": [
    "df4 = df2\n",
    "df4['overlap'] = overlap\n",
    "df4.head()"
   ]
  },
  {
   "cell_type": "code",
   "execution_count": 85,
   "id": "cfaf4ee1",
   "metadata": {},
   "outputs": [
    {
     "data": {
      "text/plain": [
       "811"
      ]
     },
     "execution_count": 85,
     "metadata": {},
     "output_type": "execute_result"
    }
   ],
   "source": [
    "df4['overlap'].sum()"
   ]
  },
  {
   "cell_type": "code",
   "execution_count": null,
   "id": "f36152ab",
   "metadata": {},
   "outputs": [],
   "source": []
  }
 ],
 "metadata": {
  "kernelspec": {
   "display_name": "Python 3 (ipykernel)",
   "language": "python",
   "name": "python3"
  },
  "language_info": {
   "codemirror_mode": {
    "name": "ipython",
    "version": 3
   },
   "file_extension": ".py",
   "mimetype": "text/x-python",
   "name": "python",
   "nbconvert_exporter": "python",
   "pygments_lexer": "ipython3",
   "version": "3.9.12"
  }
 },
 "nbformat": 4,
 "nbformat_minor": 5
}
