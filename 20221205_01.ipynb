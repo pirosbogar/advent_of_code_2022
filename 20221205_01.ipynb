{
 "cells": [
  {
   "cell_type": "code",
   "execution_count": 2,
   "id": "5290fdc7",
   "metadata": {},
   "outputs": [],
   "source": [
    "import pandas as pd\n",
    "import numpy as np\n",
    "import requests\n",
    "import csv\n",
    "import string\n",
    "\n",
    "import nums_from_string"
   ]
  },
  {
   "cell_type": "code",
   "execution_count": 12,
   "id": "94b99e79",
   "metadata": {},
   "outputs": [],
   "source": [
    "input_file = \"https://raw.githubusercontent.com/pirosbogar/advent_of_code_2022/main/inputs/05/input.txt\""
   ]
  },
  {
   "cell_type": "code",
   "execution_count": 13,
   "id": "62c9afc9",
   "metadata": {},
   "outputs": [],
   "source": [
    "df = pd.read_csv(\n",
    "                input_file, \n",
    "                 #sep=',',\n",
    "                 skip_blank_lines=False, header = None)"
   ]
  },
  {
   "cell_type": "code",
   "execution_count": 14,
   "id": "357714a2",
   "metadata": {},
   "outputs": [
    {
     "data": {
      "text/html": [
       "<div>\n",
       "<style scoped>\n",
       "    .dataframe tbody tr th:only-of-type {\n",
       "        vertical-align: middle;\n",
       "    }\n",
       "\n",
       "    .dataframe tbody tr th {\n",
       "        vertical-align: top;\n",
       "    }\n",
       "\n",
       "    .dataframe thead th {\n",
       "        text-align: right;\n",
       "    }\n",
       "</style>\n",
       "<table border=\"1\" class=\"dataframe\">\n",
       "  <thead>\n",
       "    <tr style=\"text-align: right;\">\n",
       "      <th></th>\n",
       "      <th>0</th>\n",
       "    </tr>\n",
       "  </thead>\n",
       "  <tbody>\n",
       "    <tr>\n",
       "      <th>0</th>\n",
       "      <td>[M]     [V]     [L]</td>\n",
       "    </tr>\n",
       "    <tr>\n",
       "      <th>1</th>\n",
       "      <td>[G]             [V] [C] [G]     [D]</td>\n",
       "    </tr>\n",
       "    <tr>\n",
       "      <th>2</th>\n",
       "      <td>[J]             [Q] [W] [Z] [C] [J]</td>\n",
       "    </tr>\n",
       "    <tr>\n",
       "      <th>3</th>\n",
       "      <td>[W]         [W] [G] [V] [D] [G] [C]</td>\n",
       "    </tr>\n",
       "    <tr>\n",
       "      <th>4</th>\n",
       "      <td>[R]     [G] [N] [B] [D] [C] [M] [W]</td>\n",
       "    </tr>\n",
       "    <tr>\n",
       "      <th>5</th>\n",
       "      <td>[F] [M] [H] [C] [S] [T] [N] [N] [N]</td>\n",
       "    </tr>\n",
       "    <tr>\n",
       "      <th>6</th>\n",
       "      <td>[T] [W] [N] [R] [F] [R] [B] [J] [P]</td>\n",
       "    </tr>\n",
       "    <tr>\n",
       "      <th>7</th>\n",
       "      <td>[Z] [G] [J] [J] [W] [S] [H] [S] [G]</td>\n",
       "    </tr>\n",
       "    <tr>\n",
       "      <th>8</th>\n",
       "      <td>1   2   3   4   5   6   7   8   9</td>\n",
       "    </tr>\n",
       "    <tr>\n",
       "      <th>9</th>\n",
       "      <td>NaN</td>\n",
       "    </tr>\n",
       "    <tr>\n",
       "      <th>10</th>\n",
       "      <td>move 1 from 5 to 2</td>\n",
       "    </tr>\n",
       "    <tr>\n",
       "      <th>11</th>\n",
       "      <td>move 7 from 7 to 1</td>\n",
       "    </tr>\n",
       "    <tr>\n",
       "      <th>12</th>\n",
       "      <td>move 1 from 1 to 7</td>\n",
       "    </tr>\n",
       "    <tr>\n",
       "      <th>13</th>\n",
       "      <td>move 1 from 4 to 1</td>\n",
       "    </tr>\n",
       "    <tr>\n",
       "      <th>14</th>\n",
       "      <td>move 7 from 9 to 1</td>\n",
       "    </tr>\n",
       "  </tbody>\n",
       "</table>\n",
       "</div>"
      ],
      "text/plain": [
       "                                      0\n",
       "0                   [M]     [V]     [L]\n",
       "1   [G]             [V] [C] [G]     [D]\n",
       "2   [J]             [Q] [W] [Z] [C] [J]\n",
       "3   [W]         [W] [G] [V] [D] [G] [C]\n",
       "4   [R]     [G] [N] [B] [D] [C] [M] [W]\n",
       "5   [F] [M] [H] [C] [S] [T] [N] [N] [N]\n",
       "6   [T] [W] [N] [R] [F] [R] [B] [J] [P]\n",
       "7   [Z] [G] [J] [J] [W] [S] [H] [S] [G]\n",
       "8    1   2   3   4   5   6   7   8   9 \n",
       "9                                   NaN\n",
       "10                   move 1 from 5 to 2\n",
       "11                   move 7 from 7 to 1\n",
       "12                   move 1 from 1 to 7\n",
       "13                   move 1 from 4 to 1\n",
       "14                   move 7 from 9 to 1"
      ]
     },
     "execution_count": 14,
     "metadata": {},
     "output_type": "execute_result"
    }
   ],
   "source": [
    "df.head(15)"
   ]
  },
  {
   "cell_type": "code",
   "execution_count": 7,
   "id": "499c3e90",
   "metadata": {},
   "outputs": [],
   "source": [
    "def isValidChar(i):\n",
    "    return True if 65 <= ord(i) <= 90 else False"
   ]
  },
  {
   "cell_type": "code",
   "execution_count": 11,
   "id": "90133a57",
   "metadata": {},
   "outputs": [
    {
     "ename": "SyntaxError",
     "evalue": "'return' outside function (3310910570.py, line 16)",
     "output_type": "error",
     "traceback": [
      "\u001b[1;36m  Input \u001b[1;32mIn [11]\u001b[1;36m\u001b[0m\n\u001b[1;33m    return crates, moves\u001b[0m\n\u001b[1;37m    ^\u001b[0m\n\u001b[1;31mSyntaxError\u001b[0m\u001b[1;31m:\u001b[0m 'return' outside function\n"
     ]
    }
   ],
   "source": [
    "with(open('https://raw.githubusercontent.com/pirosbogar/advent_of_code_2022/main/inputs/05/input.txt', 'r')) as f:\n",
    "    crates = []\n",
    "    moves = []\n",
    "    for line in f:\n",
    "        row = []\n",
    "        if line[0] == 'm':\n",
    "            moves.append(''.join(line).strip('\\n'))\n",
    "        elif len(line) > 1 :                \n",
    "            for c in range(1, len(line.strip('\\n')), 4):\n",
    "                if isValidChar(line[c]) or line[c].isdigit():\n",
    "                    row.append(line[c])\n",
    "                else:\n",
    "                    row.append('-')\n",
    "\n",
    "        crates.append(row) if len(row) > 1 else None\n",
    "    return crates, moves"
   ]
  },
  {
   "cell_type": "code",
   "execution_count": null,
   "id": "b77a9a0a",
   "metadata": {},
   "outputs": [],
   "source": []
  }
 ],
 "metadata": {
  "kernelspec": {
   "display_name": "Python 3 (ipykernel)",
   "language": "python",
   "name": "python3"
  },
  "language_info": {
   "codemirror_mode": {
    "name": "ipython",
    "version": 3
   },
   "file_extension": ".py",
   "mimetype": "text/x-python",
   "name": "python",
   "nbconvert_exporter": "python",
   "pygments_lexer": "ipython3",
   "version": "3.9.12"
  }
 },
 "nbformat": 4,
 "nbformat_minor": 5
}
