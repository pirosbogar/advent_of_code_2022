{
 "cells": [
  {
   "cell_type": "code",
   "execution_count": 1,
   "id": "5290fdc7",
   "metadata": {},
   "outputs": [],
   "source": [
    "import pandas as pd\n",
    "import numpy as np\n",
    "import requests\n",
    "import csv\n",
    "import string\n"
   ]
  },
  {
   "cell_type": "code",
   "execution_count": 2,
   "id": "94b99e79",
   "metadata": {},
   "outputs": [],
   "source": [
    "input_file = \"https://raw.githubusercontent.com/pirosbogar/advent_of_code_2022/main/inputs/05/input.txt\""
   ]
  },
  {
   "cell_type": "code",
   "execution_count": 3,
   "id": "62c9afc9",
   "metadata": {},
   "outputs": [],
   "source": [
    "# read input file\n",
    "df = pd.read_csv(\n",
    "                input_file, \n",
    "                 #sep=',',\n",
    "                 skip_blank_lines=False, header = None, names = ['rows'])"
   ]
  },
  {
   "cell_type": "markdown",
   "id": "59e2b7c7",
   "metadata": {},
   "source": [
    "#### After the rearrangement procedure completes, what crate ends up on top of each stack?"
   ]
  },
  {
   "cell_type": "code",
   "execution_count": 4,
   "id": "357714a2",
   "metadata": {},
   "outputs": [
    {
     "data": {
      "text/html": [
       "<div>\n",
       "<style scoped>\n",
       "    .dataframe tbody tr th:only-of-type {\n",
       "        vertical-align: middle;\n",
       "    }\n",
       "\n",
       "    .dataframe tbody tr th {\n",
       "        vertical-align: top;\n",
       "    }\n",
       "\n",
       "    .dataframe thead th {\n",
       "        text-align: right;\n",
       "    }\n",
       "</style>\n",
       "<table border=\"1\" class=\"dataframe\">\n",
       "  <thead>\n",
       "    <tr style=\"text-align: right;\">\n",
       "      <th></th>\n",
       "      <th>rows</th>\n",
       "    </tr>\n",
       "  </thead>\n",
       "  <tbody>\n",
       "    <tr>\n",
       "      <th>0</th>\n",
       "      <td>[M]     [V]     [L]</td>\n",
       "    </tr>\n",
       "    <tr>\n",
       "      <th>1</th>\n",
       "      <td>[G]             [V] [C] [G]     [D]</td>\n",
       "    </tr>\n",
       "    <tr>\n",
       "      <th>2</th>\n",
       "      <td>[J]             [Q] [W] [Z] [C] [J]</td>\n",
       "    </tr>\n",
       "    <tr>\n",
       "      <th>3</th>\n",
       "      <td>[W]         [W] [G] [V] [D] [G] [C]</td>\n",
       "    </tr>\n",
       "    <tr>\n",
       "      <th>4</th>\n",
       "      <td>[R]     [G] [N] [B] [D] [C] [M] [W]</td>\n",
       "    </tr>\n",
       "    <tr>\n",
       "      <th>5</th>\n",
       "      <td>[F] [M] [H] [C] [S] [T] [N] [N] [N]</td>\n",
       "    </tr>\n",
       "    <tr>\n",
       "      <th>6</th>\n",
       "      <td>[T] [W] [N] [R] [F] [R] [B] [J] [P]</td>\n",
       "    </tr>\n",
       "    <tr>\n",
       "      <th>7</th>\n",
       "      <td>[Z] [G] [J] [J] [W] [S] [H] [S] [G]</td>\n",
       "    </tr>\n",
       "    <tr>\n",
       "      <th>8</th>\n",
       "      <td>1   2   3   4   5   6   7   8   9</td>\n",
       "    </tr>\n",
       "    <tr>\n",
       "      <th>9</th>\n",
       "      <td>NaN</td>\n",
       "    </tr>\n",
       "    <tr>\n",
       "      <th>10</th>\n",
       "      <td>move 1 from 5 to 2</td>\n",
       "    </tr>\n",
       "    <tr>\n",
       "      <th>11</th>\n",
       "      <td>move 7 from 7 to 1</td>\n",
       "    </tr>\n",
       "    <tr>\n",
       "      <th>12</th>\n",
       "      <td>move 1 from 1 to 7</td>\n",
       "    </tr>\n",
       "    <tr>\n",
       "      <th>13</th>\n",
       "      <td>move 1 from 4 to 1</td>\n",
       "    </tr>\n",
       "    <tr>\n",
       "      <th>14</th>\n",
       "      <td>move 7 from 9 to 1</td>\n",
       "    </tr>\n",
       "  </tbody>\n",
       "</table>\n",
       "</div>"
      ],
      "text/plain": [
       "                                   rows\n",
       "0                   [M]     [V]     [L]\n",
       "1   [G]             [V] [C] [G]     [D]\n",
       "2   [J]             [Q] [W] [Z] [C] [J]\n",
       "3   [W]         [W] [G] [V] [D] [G] [C]\n",
       "4   [R]     [G] [N] [B] [D] [C] [M] [W]\n",
       "5   [F] [M] [H] [C] [S] [T] [N] [N] [N]\n",
       "6   [T] [W] [N] [R] [F] [R] [B] [J] [P]\n",
       "7   [Z] [G] [J] [J] [W] [S] [H] [S] [G]\n",
       "8    1   2   3   4   5   6   7   8   9 \n",
       "9                                   NaN\n",
       "10                   move 1 from 5 to 2\n",
       "11                   move 7 from 7 to 1\n",
       "12                   move 1 from 1 to 7\n",
       "13                   move 1 from 4 to 1\n",
       "14                   move 7 from 9 to 1"
      ]
     },
     "execution_count": 4,
     "metadata": {},
     "output_type": "execute_result"
    }
   ],
   "source": [
    "df.head(15)"
   ]
  },
  {
   "cell_type": "code",
   "execution_count": 5,
   "id": "5cfbd76c",
   "metadata": {},
   "outputs": [
    {
     "data": {
      "text/plain": [
       "[['Z', 'T', 'F', 'R', 'W', 'J', 'G'],\n",
       " ['G', 'W', 'M'],\n",
       " ['J', 'N', 'H', 'G'],\n",
       " ['J', 'R', 'C', 'N', 'W'],\n",
       " ['W', 'F', 'S', 'B', 'G', 'Q', 'V', 'M'],\n",
       " ['S', 'R', 'T', 'D', 'V', 'W', 'C'],\n",
       " ['H', 'B', 'N', 'C', 'D', 'Z', 'G', 'V'],\n",
       " ['S', 'J', 'N', 'M', 'G', 'C'],\n",
       " ['G', 'P', 'N', 'W', 'C', 'J', 'D', 'L']]"
      ]
     },
     "execution_count": 5,
     "metadata": {},
     "output_type": "execute_result"
    }
   ],
   "source": [
    "#hardcoding input crate setting\n",
    "crates_list= [\n",
    "    [\"Z\", \"T\", \"F\", \"R\", \"W\", \"J\", \"G\"],\n",
    "    [\"G\", \"W\", \"M\"],\n",
    "    [\"J\", \"N\", \"H\", \"G\"],\n",
    "    [\"J\", \"R\", \"C\", \"N\", \"W\"],\n",
    "    [\"W\", \"F\", \"S\", \"B\", \"G\", \"Q\", \"V\", \"M\"],\n",
    "    [\"S\", \"R\", \"T\", \"D\", \"V\", \"W\", \"C\"],\n",
    "    [\"H\", \"B\", \"N\", \"C\", \"D\", \"Z\", \"G\", \"V\"],\n",
    "    [\"S\", \"J\", \"N\", \"M\", \"G\", \"C\"],\n",
    "    [\"G\", \"P\", \"N\", \"W\", \"C\", \"J\", \"D\", \"L\"]\n",
    "]\n",
    "\n",
    "crates_list"
   ]
  },
  {
   "cell_type": "code",
   "execution_count": 6,
   "id": "90133a57",
   "metadata": {},
   "outputs": [],
   "source": [
    "#creating a separate df of the movement instructions\n",
    "movements = pd.read_csv(\n",
    "                input_file, \n",
    "                 #sep=',',\n",
    "                 skip_blank_lines=False, header = None, names = ['rows'], skiprows=10)"
   ]
  },
  {
   "cell_type": "code",
   "execution_count": 7,
   "id": "990783ea",
   "metadata": {},
   "outputs": [
    {
     "data": {
      "text/html": [
       "<div>\n",
       "<style scoped>\n",
       "    .dataframe tbody tr th:only-of-type {\n",
       "        vertical-align: middle;\n",
       "    }\n",
       "\n",
       "    .dataframe tbody tr th {\n",
       "        vertical-align: top;\n",
       "    }\n",
       "\n",
       "    .dataframe thead th {\n",
       "        text-align: right;\n",
       "    }\n",
       "</style>\n",
       "<table border=\"1\" class=\"dataframe\">\n",
       "  <thead>\n",
       "    <tr style=\"text-align: right;\">\n",
       "      <th></th>\n",
       "      <th>rows</th>\n",
       "    </tr>\n",
       "  </thead>\n",
       "  <tbody>\n",
       "    <tr>\n",
       "      <th>0</th>\n",
       "      <td>move 1 from 5 to 2</td>\n",
       "    </tr>\n",
       "    <tr>\n",
       "      <th>1</th>\n",
       "      <td>move 7 from 7 to 1</td>\n",
       "    </tr>\n",
       "    <tr>\n",
       "      <th>2</th>\n",
       "      <td>move 1 from 1 to 7</td>\n",
       "    </tr>\n",
       "    <tr>\n",
       "      <th>3</th>\n",
       "      <td>move 1 from 4 to 1</td>\n",
       "    </tr>\n",
       "    <tr>\n",
       "      <th>4</th>\n",
       "      <td>move 7 from 9 to 1</td>\n",
       "    </tr>\n",
       "  </tbody>\n",
       "</table>\n",
       "</div>"
      ],
      "text/plain": [
       "                 rows\n",
       "0  move 1 from 5 to 2\n",
       "1  move 7 from 7 to 1\n",
       "2  move 1 from 1 to 7\n",
       "3  move 1 from 4 to 1\n",
       "4  move 7 from 9 to 1"
      ]
     },
     "execution_count": 7,
     "metadata": {},
     "output_type": "execute_result"
    }
   ],
   "source": [
    "movements.head()"
   ]
  },
  {
   "cell_type": "code",
   "execution_count": 8,
   "id": "ebfb0751",
   "metadata": {},
   "outputs": [],
   "source": [
    "movements[['trash1', 'amount', 'trash2', 'start', 'trash3', 'end']] = movements['rows'].str.split(' ',expand=True)"
   ]
  },
  {
   "cell_type": "code",
   "execution_count": 9,
   "id": "ffb4d9c2",
   "metadata": {},
   "outputs": [],
   "source": [
    "movements = movements[['amount', 'start', 'end']]"
   ]
  },
  {
   "cell_type": "code",
   "execution_count": 10,
   "id": "880c0324",
   "metadata": {},
   "outputs": [
    {
     "data": {
      "text/html": [
       "<div>\n",
       "<style scoped>\n",
       "    .dataframe tbody tr th:only-of-type {\n",
       "        vertical-align: middle;\n",
       "    }\n",
       "\n",
       "    .dataframe tbody tr th {\n",
       "        vertical-align: top;\n",
       "    }\n",
       "\n",
       "    .dataframe thead th {\n",
       "        text-align: right;\n",
       "    }\n",
       "</style>\n",
       "<table border=\"1\" class=\"dataframe\">\n",
       "  <thead>\n",
       "    <tr style=\"text-align: right;\">\n",
       "      <th></th>\n",
       "      <th>amount</th>\n",
       "      <th>start</th>\n",
       "      <th>end</th>\n",
       "    </tr>\n",
       "  </thead>\n",
       "  <tbody>\n",
       "    <tr>\n",
       "      <th>0</th>\n",
       "      <td>1</td>\n",
       "      <td>5</td>\n",
       "      <td>2</td>\n",
       "    </tr>\n",
       "    <tr>\n",
       "      <th>1</th>\n",
       "      <td>7</td>\n",
       "      <td>7</td>\n",
       "      <td>1</td>\n",
       "    </tr>\n",
       "    <tr>\n",
       "      <th>2</th>\n",
       "      <td>1</td>\n",
       "      <td>1</td>\n",
       "      <td>7</td>\n",
       "    </tr>\n",
       "    <tr>\n",
       "      <th>3</th>\n",
       "      <td>1</td>\n",
       "      <td>4</td>\n",
       "      <td>1</td>\n",
       "    </tr>\n",
       "    <tr>\n",
       "      <th>4</th>\n",
       "      <td>7</td>\n",
       "      <td>9</td>\n",
       "      <td>1</td>\n",
       "    </tr>\n",
       "    <tr>\n",
       "      <th>...</th>\n",
       "      <td>...</td>\n",
       "      <td>...</td>\n",
       "      <td>...</td>\n",
       "    </tr>\n",
       "    <tr>\n",
       "      <th>498</th>\n",
       "      <td>10</td>\n",
       "      <td>9</td>\n",
       "      <td>5</td>\n",
       "    </tr>\n",
       "    <tr>\n",
       "      <th>499</th>\n",
       "      <td>9</td>\n",
       "      <td>5</td>\n",
       "      <td>1</td>\n",
       "    </tr>\n",
       "    <tr>\n",
       "      <th>500</th>\n",
       "      <td>5</td>\n",
       "      <td>5</td>\n",
       "      <td>2</td>\n",
       "    </tr>\n",
       "    <tr>\n",
       "      <th>501</th>\n",
       "      <td>1</td>\n",
       "      <td>6</td>\n",
       "      <td>7</td>\n",
       "    </tr>\n",
       "    <tr>\n",
       "      <th>502</th>\n",
       "      <td>5</td>\n",
       "      <td>5</td>\n",
       "      <td>8</td>\n",
       "    </tr>\n",
       "  </tbody>\n",
       "</table>\n",
       "<p>503 rows × 3 columns</p>\n",
       "</div>"
      ],
      "text/plain": [
       "    amount start end\n",
       "0        1     5   2\n",
       "1        7     7   1\n",
       "2        1     1   7\n",
       "3        1     4   1\n",
       "4        7     9   1\n",
       "..     ...   ...  ..\n",
       "498     10     9   5\n",
       "499      9     5   1\n",
       "500      5     5   2\n",
       "501      1     6   7\n",
       "502      5     5   8\n",
       "\n",
       "[503 rows x 3 columns]"
      ]
     },
     "execution_count": 10,
     "metadata": {},
     "output_type": "execute_result"
    }
   ],
   "source": [
    "movements"
   ]
  },
  {
   "cell_type": "code",
   "execution_count": 11,
   "id": "6b38edcf",
   "metadata": {},
   "outputs": [],
   "source": [
    "#rearrange the crates\n",
    "for amount, start, end in zip(movements.amount, movements.start, movements.end):\n",
    "    amount = int(amount)\n",
    "    start = int(start)\n",
    "    end = int(end)\n",
    "\n",
    "    i = amount\n",
    "    while i > 0:\n",
    "        crate = crates_list[start-1].pop()\n",
    "        crates_list[end-1].append(crate)\n",
    "        i = i-1"
   ]
  },
  {
   "cell_type": "code",
   "execution_count": 12,
   "id": "d43246de",
   "metadata": {},
   "outputs": [
    {
     "data": {
      "text/plain": [
       "[['B', 'D', 'T', 'J', 'D', 'V', 'R', 'H', 'G', 'C'],\n",
       " ['S', 'M', 'N', 'W', 'W'],\n",
       " ['M', 'S', 'C', 'M'],\n",
       " ['P',\n",
       "  'V',\n",
       "  'Z',\n",
       "  'Q',\n",
       "  'J',\n",
       "  'F',\n",
       "  'G',\n",
       "  'Z',\n",
       "  'W',\n",
       "  'N',\n",
       "  'V',\n",
       "  'G',\n",
       "  'C',\n",
       "  'J',\n",
       "  'C',\n",
       "  'R',\n",
       "  'L',\n",
       "  'N',\n",
       "  'F',\n",
       "  'G',\n",
       "  'N',\n",
       "  'R',\n",
       "  'J',\n",
       "  'W',\n",
       "  'C',\n",
       "  'G',\n",
       "  'T'],\n",
       " ['G'],\n",
       " ['H'],\n",
       " ['B'],\n",
       " ['W', 'N', 'S', 'G', 'D'],\n",
       " ['J', 'W']]"
      ]
     },
     "execution_count": 12,
     "metadata": {},
     "output_type": "execute_result"
    }
   ],
   "source": [
    "crates_list"
   ]
  },
  {
   "cell_type": "code",
   "execution_count": 13,
   "id": "59971999",
   "metadata": {},
   "outputs": [],
   "source": [
    "#find the top crate in each stack\n",
    "top = \"\"\n",
    "for i in range(len(crates_list)):\n",
    "    top = \"\".join([top,crates_list[i].pop()])"
   ]
  },
  {
   "cell_type": "code",
   "execution_count": 14,
   "id": "ec4dbcfe",
   "metadata": {},
   "outputs": [
    {
     "name": "stdout",
     "output_type": "stream",
     "text": [
      "CWMTGHBDW\n"
     ]
    }
   ],
   "source": [
    "print(top)"
   ]
  },
  {
   "cell_type": "markdown",
   "id": "d2274e01",
   "metadata": {},
   "source": [
    "#### If the crane can move multiple crates at once (so they stay in order), after the rearrangement procedure completes, what crate ends up on top of each stack? "
   ]
  },
  {
   "cell_type": "code",
   "execution_count": 15,
   "id": "08470ab4",
   "metadata": {},
   "outputs": [
    {
     "data": {
      "text/plain": [
       "[['Z', 'T', 'F', 'R', 'W', 'J', 'G'],\n",
       " ['G', 'W', 'M'],\n",
       " ['J', 'N', 'H', 'G'],\n",
       " ['J', 'R', 'C', 'N', 'W'],\n",
       " ['W', 'F', 'S', 'B', 'G', 'Q', 'V', 'M'],\n",
       " ['S', 'R', 'T', 'D', 'V', 'W', 'C'],\n",
       " ['H', 'B', 'N', 'C', 'D', 'Z', 'G', 'V'],\n",
       " ['S', 'J', 'N', 'M', 'G', 'C'],\n",
       " ['G', 'P', 'N', 'W', 'C', 'J', 'D', 'L']]"
      ]
     },
     "execution_count": 15,
     "metadata": {},
     "output_type": "execute_result"
    }
   ],
   "source": [
    "#reating input crate setting\n",
    "crates_list= [\n",
    "    [\"Z\", \"T\", \"F\", \"R\", \"W\", \"J\", \"G\"],\n",
    "    [\"G\", \"W\", \"M\"],\n",
    "    [\"J\", \"N\", \"H\", \"G\"],\n",
    "    [\"J\", \"R\", \"C\", \"N\", \"W\"],\n",
    "    [\"W\", \"F\", \"S\", \"B\", \"G\", \"Q\", \"V\", \"M\"],\n",
    "    [\"S\", \"R\", \"T\", \"D\", \"V\", \"W\", \"C\"],\n",
    "    [\"H\", \"B\", \"N\", \"C\", \"D\", \"Z\", \"G\", \"V\"],\n",
    "    [\"S\", \"J\", \"N\", \"M\", \"G\", \"C\"],\n",
    "    [\"G\", \"P\", \"N\", \"W\", \"C\", \"J\", \"D\", \"L\"]\n",
    "]\n",
    "\n",
    "crates_list"
   ]
  },
  {
   "cell_type": "code",
   "execution_count": 16,
   "id": "2e1129d2",
   "metadata": {},
   "outputs": [],
   "source": [
    "#rearrange the crates\n",
    "for amount, start, end in zip(movements.amount, movements.start, movements.end):\n",
    "    amount = int(amount)\n",
    "    start = int(start)\n",
    "    end = int(end)\n",
    "\n",
    "    i = amount\n",
    "    while i > 0:\n",
    "        crate = crates_list[start-1].pop(len(crates_list[start-1]) - i)\n",
    "        crates_list[end-1].append(crate)\n",
    "        i = i-1"
   ]
  },
  {
   "cell_type": "code",
   "execution_count": 17,
   "id": "f438efa5",
   "metadata": {},
   "outputs": [
    {
     "data": {
      "text/plain": [
       "[['G', 'N', 'M', 'G', 'V', 'N', 'B', 'V', 'T', 'S'],\n",
       " ['V', 'W', 'N', 'R', 'S'],\n",
       " ['R', 'Q', 'Z', 'C'],\n",
       " ['J',\n",
       "  'H',\n",
       "  'N',\n",
       "  'G',\n",
       "  'G',\n",
       "  'D',\n",
       "  'D',\n",
       "  'C',\n",
       "  'W',\n",
       "  'C',\n",
       "  'W',\n",
       "  'W',\n",
       "  'T',\n",
       "  'C',\n",
       "  'F',\n",
       "  'S',\n",
       "  'P',\n",
       "  'G',\n",
       "  'D',\n",
       "  'Z',\n",
       "  'G',\n",
       "  'J',\n",
       "  'J',\n",
       "  'L',\n",
       "  'M',\n",
       "  'F',\n",
       "  'G'],\n",
       " ['W'],\n",
       " ['J'],\n",
       " ['C'],\n",
       " ['H', 'W', 'M', 'N', 'R'],\n",
       " ['J', 'B']]"
      ]
     },
     "execution_count": 17,
     "metadata": {},
     "output_type": "execute_result"
    }
   ],
   "source": [
    "crates_list"
   ]
  },
  {
   "cell_type": "code",
   "execution_count": 18,
   "id": "5a6d947d",
   "metadata": {},
   "outputs": [],
   "source": [
    "#find the top crate in each stack\n",
    "top = \"\"\n",
    "for i in range(len(crates_list)):\n",
    "    top = \"\".join([top,crates_list[i].pop()])"
   ]
  },
  {
   "cell_type": "code",
   "execution_count": 19,
   "id": "089a6671",
   "metadata": {},
   "outputs": [
    {
     "name": "stdout",
     "output_type": "stream",
     "text": [
      "SSCGWJCRB\n"
     ]
    }
   ],
   "source": [
    "print(top)"
   ]
  },
  {
   "cell_type": "code",
   "execution_count": null,
   "id": "fced262e",
   "metadata": {},
   "outputs": [],
   "source": []
  }
 ],
 "metadata": {
  "kernelspec": {
   "display_name": "Python 3 (ipykernel)",
   "language": "python",
   "name": "python3"
  },
  "language_info": {
   "codemirror_mode": {
    "name": "ipython",
    "version": 3
   },
   "file_extension": ".py",
   "mimetype": "text/x-python",
   "name": "python",
   "nbconvert_exporter": "python",
   "pygments_lexer": "ipython3",
   "version": "3.9.12"
  }
 },
 "nbformat": 4,
 "nbformat_minor": 5
}
