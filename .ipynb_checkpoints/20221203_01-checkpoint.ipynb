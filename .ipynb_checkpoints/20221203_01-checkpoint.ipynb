{
 "cells": [
  {
   "cell_type": "code",
   "execution_count": 1,
   "id": "7b00a9c0",
   "metadata": {},
   "outputs": [],
   "source": [
    "import pandas as pd\n",
    "import numpy as np\n",
    "import requests\n",
    "import csv\n",
    "import string"
   ]
  },
  {
   "cell_type": "code",
   "execution_count": 2,
   "id": "cb5dfa3e",
   "metadata": {},
   "outputs": [],
   "source": [
    "#df = pd.read_csv(\n",
    "#                \"C:/Users/feherdavid/Downloads/input.txt\", \n",
    "#                 sep=' ',\n",
    "#                 skip_blank_lines=False, header = None, names=['rucksacks'])"
   ]
  },
  {
   "cell_type": "code",
   "execution_count": 3,
   "id": "a73e6ddf",
   "metadata": {},
   "outputs": [],
   "source": [
    "df = pd.read_csv(\n",
    "                \"https://raw.githubusercontent.com/pirosbogar/advent_of_code_2022/main/inputs/03/input.txt\", \n",
    "                 sep=' ',\n",
    "                 skip_blank_lines=False, header = None, names=['rucksacks'])"
   ]
  },
  {
   "cell_type": "code",
   "execution_count": 4,
   "id": "04d2d584",
   "metadata": {},
   "outputs": [
    {
     "data": {
      "text/html": [
       "<div>\n",
       "<style scoped>\n",
       "    .dataframe tbody tr th:only-of-type {\n",
       "        vertical-align: middle;\n",
       "    }\n",
       "\n",
       "    .dataframe tbody tr th {\n",
       "        vertical-align: top;\n",
       "    }\n",
       "\n",
       "    .dataframe thead th {\n",
       "        text-align: right;\n",
       "    }\n",
       "</style>\n",
       "<table border=\"1\" class=\"dataframe\">\n",
       "  <thead>\n",
       "    <tr style=\"text-align: right;\">\n",
       "      <th></th>\n",
       "      <th>rucksacks</th>\n",
       "    </tr>\n",
       "  </thead>\n",
       "  <tbody>\n",
       "    <tr>\n",
       "      <th>0</th>\n",
       "      <td>NLBLfrNNLvqwbMfDqSjSzzSJjjggcdVs</td>\n",
       "    </tr>\n",
       "    <tr>\n",
       "      <th>1</th>\n",
       "      <td>lTRGPPZnRRHszcsZdSsccZ</td>\n",
       "    </tr>\n",
       "    <tr>\n",
       "      <th>2</th>\n",
       "      <td>CFTTFtFHTtCtDDzrmBtrBD</td>\n",
       "    </tr>\n",
       "    <tr>\n",
       "      <th>3</th>\n",
       "      <td>BJldgBWnRgWNWtllSlWShMcLcVSvVjbVVVvDVVVL</td>\n",
       "    </tr>\n",
       "    <tr>\n",
       "      <th>4</th>\n",
       "      <td>HFGFwqQPQGwHrTFpwmThMbDDVcVmLvvshj</td>\n",
       "    </tr>\n",
       "  </tbody>\n",
       "</table>\n",
       "</div>"
      ],
      "text/plain": [
       "                                  rucksacks\n",
       "0          NLBLfrNNLvqwbMfDqSjSzzSJjjggcdVs\n",
       "1                    lTRGPPZnRRHszcsZdSsccZ\n",
       "2                    CFTTFtFHTtCtDDzrmBtrBD\n",
       "3  BJldgBWnRgWNWtllSlWShMcLcVSvVjbVVVvDVVVL\n",
       "4        HFGFwqQPQGwHrTFpwmThMbDDVcVmLvvshj"
      ]
     },
     "execution_count": 4,
     "metadata": {},
     "output_type": "execute_result"
    }
   ],
   "source": [
    "df.head()"
   ]
  },
  {
   "cell_type": "code",
   "execution_count": 5,
   "id": "6a5f7917",
   "metadata": {},
   "outputs": [],
   "source": [
    "result = []\n",
    "\n",
    "for x in df['rucksacks']:\n",
    "    chunks, chunk_size = len(x), len(x)//2\n",
    "    \n",
    "    z = [ x[i:i+chunk_size] for i in range(0, chunks, chunk_size) ]\n",
    "    \n",
    "    result.append(z)"
   ]
  },
  {
   "cell_type": "code",
   "execution_count": 6,
   "id": "c5f40a06",
   "metadata": {},
   "outputs": [
    {
     "data": {
      "text/plain": [
       "[['NLBLfrNNLvqwbMfD', 'qSjSzzSJjjggcdVs'],\n",
       " ['lTRGPPZnRRH', 'szcsZdSsccZ'],\n",
       " ['CFTTFtFHTtC', 'tDDzrmBtrBD'],\n",
       " ['BJldgBWnRgWNWtllSlWS', 'hMcLcVSvVjbVVVvDVVVL'],\n",
       " ['HFGFwqQPQGwHrTFpw', 'mThMbDDVcVmLvvshj']]"
      ]
     },
     "execution_count": 6,
     "metadata": {},
     "output_type": "execute_result"
    }
   ],
   "source": [
    "result[:5]"
   ]
  },
  {
   "cell_type": "code",
   "execution_count": 7,
   "id": "9d751c09",
   "metadata": {},
   "outputs": [],
   "source": [
    "df2 = pd.DataFrame(result, columns = ['compartment1', 'compartment2'])"
   ]
  },
  {
   "cell_type": "code",
   "execution_count": 8,
   "id": "e0abe274",
   "metadata": {},
   "outputs": [
    {
     "data": {
      "text/html": [
       "<div>\n",
       "<style scoped>\n",
       "    .dataframe tbody tr th:only-of-type {\n",
       "        vertical-align: middle;\n",
       "    }\n",
       "\n",
       "    .dataframe tbody tr th {\n",
       "        vertical-align: top;\n",
       "    }\n",
       "\n",
       "    .dataframe thead th {\n",
       "        text-align: right;\n",
       "    }\n",
       "</style>\n",
       "<table border=\"1\" class=\"dataframe\">\n",
       "  <thead>\n",
       "    <tr style=\"text-align: right;\">\n",
       "      <th></th>\n",
       "      <th>compartment1</th>\n",
       "      <th>compartment2</th>\n",
       "    </tr>\n",
       "  </thead>\n",
       "  <tbody>\n",
       "    <tr>\n",
       "      <th>0</th>\n",
       "      <td>NLBLfrNNLvqwbMfD</td>\n",
       "      <td>qSjSzzSJjjggcdVs</td>\n",
       "    </tr>\n",
       "    <tr>\n",
       "      <th>1</th>\n",
       "      <td>lTRGPPZnRRH</td>\n",
       "      <td>szcsZdSsccZ</td>\n",
       "    </tr>\n",
       "    <tr>\n",
       "      <th>2</th>\n",
       "      <td>CFTTFtFHTtC</td>\n",
       "      <td>tDDzrmBtrBD</td>\n",
       "    </tr>\n",
       "    <tr>\n",
       "      <th>3</th>\n",
       "      <td>BJldgBWnRgWNWtllSlWS</td>\n",
       "      <td>hMcLcVSvVjbVVVvDVVVL</td>\n",
       "    </tr>\n",
       "    <tr>\n",
       "      <th>4</th>\n",
       "      <td>HFGFwqQPQGwHrTFpw</td>\n",
       "      <td>mThMbDDVcVmLvvshj</td>\n",
       "    </tr>\n",
       "  </tbody>\n",
       "</table>\n",
       "</div>"
      ],
      "text/plain": [
       "           compartment1          compartment2\n",
       "0      NLBLfrNNLvqwbMfD      qSjSzzSJjjggcdVs\n",
       "1           lTRGPPZnRRH           szcsZdSsccZ\n",
       "2           CFTTFtFHTtC           tDDzrmBtrBD\n",
       "3  BJldgBWnRgWNWtllSlWS  hMcLcVSvVjbVVVvDVVVL\n",
       "4     HFGFwqQPQGwHrTFpw     mThMbDDVcVmLvvshj"
      ]
     },
     "execution_count": 8,
     "metadata": {},
     "output_type": "execute_result"
    }
   ],
   "source": [
    "df2.head()"
   ]
  },
  {
   "cell_type": "code",
   "execution_count": 46,
   "id": "77e194b0",
   "metadata": {},
   "outputs": [],
   "source": [
    "match = []\n",
    "\n",
    "for a, b in zip(df2.compartment1, df2.compartment2):\n",
    "    z = set(a).intersection(b)\n",
    "    match.append(z)"
   ]
  },
  {
   "cell_type": "code",
   "execution_count": 47,
   "id": "687db2ee",
   "metadata": {},
   "outputs": [
    {
     "name": "stdout",
     "output_type": "stream",
     "text": [
      "[{'q'}, {'Z'}, {'t'}, {'S'}, {'T'}, {'f'}, {'j'}, {'m'}, {'Z'}, {'W'}, {'J'}, {'c'}, {'S'}, {'q'}, {'j'}, {'p'}, {'q'}, {'Q'}, {'t'}, {'R'}, {'S'}, {'d'}, {'S'}, {'N'}, {'s'}, {'j'}, {'H'}, {'H'}, {'G'}, {'r'}, {'L'}, {'j'}, {'g'}, {'p'}, {'H'}, {'v'}, {'v'}, {'d'}, {'J'}, {'D'}, {'Q'}, {'p'}, {'R'}, {'D'}, {'P'}, {'D'}, {'r'}, {'p'}, {'r'}, {'c'}, {'M'}, {'b'}, {'h'}, {'B'}, {'c'}, {'F'}, {'L'}, {'G'}, {'n'}, {'r'}, {'q'}, {'Z'}, {'r'}, {'s'}, {'W'}, {'h'}, {'R'}, {'j'}, {'Q'}, {'J'}, {'r'}, {'v'}, {'Q'}, {'B'}, {'R'}, {'z'}, {'m'}, {'c'}, {'Z'}, {'R'}, {'h'}, {'w'}, {'G'}, {'z'}, {'G'}, {'g'}, {'f'}, {'V'}, {'P'}, {'J'}, {'S'}, {'F'}, {'Q'}, {'C'}, {'f'}, {'m'}, {'r'}, {'H'}, {'w'}, {'T'}, {'Q'}, {'b'}, {'T'}, {'h'}, {'b'}, {'M'}, {'w'}, {'l'}, {'j'}, {'Q'}, {'s'}, {'C'}, {'b'}, {'S'}, {'d'}, {'P'}, {'N'}, {'n'}, {'H'}, {'q'}, {'B'}, {'C'}, {'r'}, {'q'}, {'d'}, {'h'}, {'s'}, {'b'}, {'T'}, {'s'}, {'z'}, {'g'}, {'v'}, {'P'}, {'g'}, {'W'}, {'d'}, {'C'}, {'V'}, {'L'}, {'B'}, {'N'}, {'c'}, {'d'}, {'L'}, {'Z'}, {'V'}, {'T'}, {'S'}, {'p'}, {'F'}, {'d'}, {'H'}, {'g'}, {'G'}, {'Q'}, {'J'}, {'l'}, {'j'}, {'L'}, {'p'}, {'H'}, {'z'}, {'l'}, {'h'}, {'m'}, {'w'}, {'q'}, {'Q'}, {'h'}, {'g'}, {'b'}, {'G'}, {'r'}, {'m'}, {'v'}, {'L'}, {'P'}, {'t'}, {'F'}, {'G'}, {'T'}, {'P'}, {'t'}, {'F'}, {'S'}, {'D'}, {'V'}, {'B'}, {'w'}, {'W'}, {'F'}, {'n'}, {'f'}, {'T'}, {'n'}, {'V'}, {'p'}, {'c'}, {'b'}, {'L'}, {'R'}, {'Q'}, {'N'}, {'s'}, {'l'}, {'V'}, {'c'}, {'j'}, {'m'}, {'z'}, {'b'}, {'W'}, {'T'}, {'J'}, {'n'}, {'q'}, {'P'}, {'G'}, {'H'}, {'g'}, {'V'}, {'G'}, {'Z'}, {'l'}, {'z'}, {'q'}, {'g'}, {'D'}, {'C'}, {'B'}, {'g'}, {'L'}, {'q'}, {'Z'}, {'R'}, {'N'}, {'P'}, {'n'}, {'F'}, {'V'}, {'S'}, {'D'}, {'m'}, {'T'}, {'s'}, {'M'}, {'P'}, {'D'}, {'P'}, {'j'}, {'C'}, {'g'}, {'j'}, {'S'}, {'F'}, {'f'}, {'C'}, {'L'}, {'T'}, {'c'}, {'W'}, {'v'}, {'N'}, {'P'}, {'R'}, {'v'}, {'M'}, {'g'}, {'Q'}, {'D'}, {'v'}, {'G'}, {'t'}, {'w'}, {'z'}, {'D'}, {'B'}, {'l'}, {'V'}, {'T'}, {'j'}, {'h'}, {'Z'}, {'M'}, {'q'}, {'S'}, {'b'}, {'s'}, {'h'}, {'f'}, {'q'}, {'L'}, {'f'}, {'J'}, {'b'}, {'F'}, {'h'}, {'Z'}, {'B'}]\n"
     ]
    }
   ],
   "source": [
    "print(match)"
   ]
  },
  {
   "cell_type": "code",
   "execution_count": 11,
   "id": "b4f7f9c2",
   "metadata": {},
   "outputs": [],
   "source": [
    "matchlist = []\n",
    "\n",
    "for sublist in match:\n",
    "    for item in sublist:\n",
    "        matchlist.append(item)"
   ]
  },
  {
   "cell_type": "code",
   "execution_count": 12,
   "id": "83542a81",
   "metadata": {},
   "outputs": [
    {
     "name": "stdout",
     "output_type": "stream",
     "text": [
      "['q', 'Z', 't', 'S', 'T', 'f', 'j', 'm', 'Z', 'W', 'J', 'c', 'S', 'q', 'j', 'p', 'q', 'Q', 't', 'R', 'S', 'd', 'S', 'N', 's', 'j', 'H', 'H', 'G', 'r', 'L', 'j', 'g', 'p', 'H', 'v', 'v', 'd', 'J', 'D', 'Q', 'p', 'R', 'D', 'P', 'D', 'r', 'p', 'r', 'c', 'M', 'b', 'h', 'B', 'c', 'F', 'L', 'G', 'n', 'r', 'q', 'Z', 'r', 's', 'W', 'h', 'R', 'j', 'Q', 'J', 'r', 'v', 'Q', 'B', 'R', 'z', 'm', 'c', 'Z', 'R', 'h', 'w', 'G', 'z', 'G', 'g', 'f', 'V', 'P', 'J', 'S', 'F', 'Q', 'C', 'f', 'm', 'r', 'H', 'w', 'T', 'Q', 'b', 'T', 'h', 'b', 'M', 'w', 'l', 'j', 'Q', 's', 'C', 'b', 'S', 'd', 'P', 'N', 'n', 'H', 'q', 'B', 'C', 'r', 'q', 'd', 'h', 's', 'b', 'T', 's', 'z', 'g', 'v', 'P', 'g', 'W', 'd', 'C', 'V', 'L', 'B', 'N', 'c', 'd', 'L', 'Z', 'V', 'T', 'S', 'p', 'F', 'd', 'H', 'g', 'G', 'Q', 'J', 'l', 'j', 'L', 'p', 'H', 'z', 'l', 'h', 'm', 'w', 'q', 'Q', 'h', 'g', 'b', 'G', 'r', 'm', 'v', 'L', 'P', 't', 'F', 'G', 'T', 'P', 't', 'F', 'S', 'D', 'V', 'B', 'w', 'W', 'F', 'n', 'f', 'T', 'n', 'V', 'p', 'c', 'b', 'L', 'R', 'Q', 'N', 's', 'l', 'V', 'c', 'j', 'm', 'z', 'b', 'W', 'T', 'J', 'n', 'q', 'P', 'G', 'H', 'g', 'V', 'G', 'Z', 'l', 'z', 'q', 'g', 'D', 'C', 'B', 'g', 'L', 'q', 'Z', 'R', 'N', 'P', 'n', 'F', 'V', 'S', 'D', 'm', 'T', 's', 'M', 'P', 'D', 'P', 'j', 'C', 'g', 'j', 'S', 'F', 'f', 'C', 'L', 'T', 'c', 'W', 'v', 'N', 'P', 'R', 'v', 'M', 'g', 'Q', 'D', 'v', 'G', 't', 'w', 'z', 'D', 'B', 'l', 'V', 'T', 'j', 'h', 'Z', 'M', 'q', 'S', 'b', 's', 'h', 'f', 'q', 'L', 'f', 'J', 'b', 'F', 'h', 'Z', 'B']\n"
     ]
    }
   ],
   "source": [
    "print(matchlist)"
   ]
  },
  {
   "cell_type": "code",
   "execution_count": 13,
   "id": "47641f3a",
   "metadata": {},
   "outputs": [],
   "source": [
    "alphabet_lower = list(string.ascii_lowercase)\n",
    "alphabet_upper = list(string.ascii_uppercase)\n",
    "\n",
    "alphabet = alphabet_lower + alphabet_upper"
   ]
  },
  {
   "cell_type": "code",
   "execution_count": 14,
   "id": "19720b57",
   "metadata": {},
   "outputs": [
    {
     "name": "stdout",
     "output_type": "stream",
     "text": [
      "['a', 'b', 'c', 'd', 'e', 'f', 'g', 'h', 'i', 'j', 'k', 'l', 'm', 'n', 'o', 'p', 'q', 'r', 's', 't', 'u', 'v', 'w', 'x', 'y', 'z', 'A', 'B', 'C', 'D', 'E', 'F', 'G', 'H', 'I', 'J', 'K', 'L', 'M', 'N', 'O', 'P', 'Q', 'R', 'S', 'T', 'U', 'V', 'W', 'X', 'Y', 'Z']\n"
     ]
    }
   ],
   "source": [
    "print(alphabet)"
   ]
  },
  {
   "cell_type": "code",
   "execution_count": 15,
   "id": "6aecb9f5",
   "metadata": {},
   "outputs": [],
   "source": [
    "points = np.arange(1,53)"
   ]
  },
  {
   "cell_type": "code",
   "execution_count": 16,
   "id": "789464e4",
   "metadata": {},
   "outputs": [
    {
     "name": "stdout",
     "output_type": "stream",
     "text": [
      "[ 1  2  3  4  5  6  7  8  9 10 11 12 13 14 15 16 17 18 19 20 21 22 23 24\n",
      " 25 26 27 28 29 30 31 32 33 34 35 36 37 38 39 40 41 42 43 44 45 46 47 48\n",
      " 49 50 51 52]\n"
     ]
    }
   ],
   "source": [
    "print(points)"
   ]
  },
  {
   "cell_type": "code",
   "execution_count": 17,
   "id": "ad54be6b",
   "metadata": {},
   "outputs": [],
   "source": [
    "priority = pd.DataFrame(list(zip(alphabet, points)), columns = ['alphabet', 'points'])\n"
   ]
  },
  {
   "cell_type": "code",
   "execution_count": 18,
   "id": "5b4558f3",
   "metadata": {},
   "outputs": [
    {
     "name": "stdout",
     "output_type": "stream",
     "text": [
      "   alphabet  points\n",
      "0         a       1\n",
      "1         b       2\n",
      "2         c       3\n",
      "3         d       4\n",
      "4         e       5\n",
      "5         f       6\n",
      "6         g       7\n",
      "7         h       8\n",
      "8         i       9\n",
      "9         j      10\n",
      "10        k      11\n",
      "11        l      12\n",
      "12        m      13\n",
      "13        n      14\n",
      "14        o      15\n",
      "15        p      16\n",
      "16        q      17\n",
      "17        r      18\n",
      "18        s      19\n",
      "19        t      20\n",
      "20        u      21\n",
      "21        v      22\n",
      "22        w      23\n",
      "23        x      24\n",
      "24        y      25\n",
      "25        z      26\n",
      "26        A      27\n",
      "27        B      28\n",
      "28        C      29\n",
      "29        D      30\n",
      "30        E      31\n",
      "31        F      32\n",
      "32        G      33\n",
      "33        H      34\n",
      "34        I      35\n",
      "35        J      36\n",
      "36        K      37\n",
      "37        L      38\n",
      "38        M      39\n",
      "39        N      40\n",
      "40        O      41\n",
      "41        P      42\n",
      "42        Q      43\n",
      "43        R      44\n",
      "44        S      45\n",
      "45        T      46\n",
      "46        U      47\n",
      "47        V      48\n",
      "48        W      49\n",
      "49        X      50\n",
      "50        Y      51\n",
      "51        Z      52\n"
     ]
    }
   ],
   "source": [
    "print(priority)"
   ]
  },
  {
   "cell_type": "code",
   "execution_count": 19,
   "id": "76d1c49d",
   "metadata": {},
   "outputs": [],
   "source": [
    "df2['matches'] = matchlist"
   ]
  },
  {
   "cell_type": "code",
   "execution_count": 20,
   "id": "813f15a7",
   "metadata": {},
   "outputs": [
    {
     "data": {
      "text/html": [
       "<div>\n",
       "<style scoped>\n",
       "    .dataframe tbody tr th:only-of-type {\n",
       "        vertical-align: middle;\n",
       "    }\n",
       "\n",
       "    .dataframe tbody tr th {\n",
       "        vertical-align: top;\n",
       "    }\n",
       "\n",
       "    .dataframe thead th {\n",
       "        text-align: right;\n",
       "    }\n",
       "</style>\n",
       "<table border=\"1\" class=\"dataframe\">\n",
       "  <thead>\n",
       "    <tr style=\"text-align: right;\">\n",
       "      <th></th>\n",
       "      <th>compartment1</th>\n",
       "      <th>compartment2</th>\n",
       "      <th>matches</th>\n",
       "    </tr>\n",
       "  </thead>\n",
       "  <tbody>\n",
       "    <tr>\n",
       "      <th>0</th>\n",
       "      <td>NLBLfrNNLvqwbMfD</td>\n",
       "      <td>qSjSzzSJjjggcdVs</td>\n",
       "      <td>q</td>\n",
       "    </tr>\n",
       "    <tr>\n",
       "      <th>1</th>\n",
       "      <td>lTRGPPZnRRH</td>\n",
       "      <td>szcsZdSsccZ</td>\n",
       "      <td>Z</td>\n",
       "    </tr>\n",
       "    <tr>\n",
       "      <th>2</th>\n",
       "      <td>CFTTFtFHTtC</td>\n",
       "      <td>tDDzrmBtrBD</td>\n",
       "      <td>t</td>\n",
       "    </tr>\n",
       "    <tr>\n",
       "      <th>3</th>\n",
       "      <td>BJldgBWnRgWNWtllSlWS</td>\n",
       "      <td>hMcLcVSvVjbVVVvDVVVL</td>\n",
       "      <td>S</td>\n",
       "    </tr>\n",
       "    <tr>\n",
       "      <th>4</th>\n",
       "      <td>HFGFwqQPQGwHrTFpw</td>\n",
       "      <td>mThMbDDVcVmLvvshj</td>\n",
       "      <td>T</td>\n",
       "    </tr>\n",
       "  </tbody>\n",
       "</table>\n",
       "</div>"
      ],
      "text/plain": [
       "           compartment1          compartment2 matches\n",
       "0      NLBLfrNNLvqwbMfD      qSjSzzSJjjggcdVs       q\n",
       "1           lTRGPPZnRRH           szcsZdSsccZ       Z\n",
       "2           CFTTFtFHTtC           tDDzrmBtrBD       t\n",
       "3  BJldgBWnRgWNWtllSlWS  hMcLcVSvVjbVVVvDVVVL       S\n",
       "4     HFGFwqQPQGwHrTFpw     mThMbDDVcVmLvvshj       T"
      ]
     },
     "execution_count": 20,
     "metadata": {},
     "output_type": "execute_result"
    }
   ],
   "source": [
    "df2.head()"
   ]
  },
  {
   "cell_type": "code",
   "execution_count": 21,
   "id": "754824d8",
   "metadata": {},
   "outputs": [],
   "source": [
    "df3 = df2.merge(priority, left_on='matches', right_on = 'alphabet', how = 'left').drop(columns = ['alphabet'])"
   ]
  },
  {
   "cell_type": "code",
   "execution_count": 22,
   "id": "609fdf86",
   "metadata": {},
   "outputs": [
    {
     "data": {
      "text/html": [
       "<div>\n",
       "<style scoped>\n",
       "    .dataframe tbody tr th:only-of-type {\n",
       "        vertical-align: middle;\n",
       "    }\n",
       "\n",
       "    .dataframe tbody tr th {\n",
       "        vertical-align: top;\n",
       "    }\n",
       "\n",
       "    .dataframe thead th {\n",
       "        text-align: right;\n",
       "    }\n",
       "</style>\n",
       "<table border=\"1\" class=\"dataframe\">\n",
       "  <thead>\n",
       "    <tr style=\"text-align: right;\">\n",
       "      <th></th>\n",
       "      <th>compartment1</th>\n",
       "      <th>compartment2</th>\n",
       "      <th>matches</th>\n",
       "      <th>points</th>\n",
       "    </tr>\n",
       "  </thead>\n",
       "  <tbody>\n",
       "    <tr>\n",
       "      <th>0</th>\n",
       "      <td>NLBLfrNNLvqwbMfD</td>\n",
       "      <td>qSjSzzSJjjggcdVs</td>\n",
       "      <td>q</td>\n",
       "      <td>17</td>\n",
       "    </tr>\n",
       "    <tr>\n",
       "      <th>1</th>\n",
       "      <td>lTRGPPZnRRH</td>\n",
       "      <td>szcsZdSsccZ</td>\n",
       "      <td>Z</td>\n",
       "      <td>52</td>\n",
       "    </tr>\n",
       "    <tr>\n",
       "      <th>2</th>\n",
       "      <td>CFTTFtFHTtC</td>\n",
       "      <td>tDDzrmBtrBD</td>\n",
       "      <td>t</td>\n",
       "      <td>20</td>\n",
       "    </tr>\n",
       "    <tr>\n",
       "      <th>3</th>\n",
       "      <td>BJldgBWnRgWNWtllSlWS</td>\n",
       "      <td>hMcLcVSvVjbVVVvDVVVL</td>\n",
       "      <td>S</td>\n",
       "      <td>45</td>\n",
       "    </tr>\n",
       "    <tr>\n",
       "      <th>4</th>\n",
       "      <td>HFGFwqQPQGwHrTFpw</td>\n",
       "      <td>mThMbDDVcVmLvvshj</td>\n",
       "      <td>T</td>\n",
       "      <td>46</td>\n",
       "    </tr>\n",
       "  </tbody>\n",
       "</table>\n",
       "</div>"
      ],
      "text/plain": [
       "           compartment1          compartment2 matches  points\n",
       "0      NLBLfrNNLvqwbMfD      qSjSzzSJjjggcdVs       q      17\n",
       "1           lTRGPPZnRRH           szcsZdSsccZ       Z      52\n",
       "2           CFTTFtFHTtC           tDDzrmBtrBD       t      20\n",
       "3  BJldgBWnRgWNWtllSlWS  hMcLcVSvVjbVVVvDVVVL       S      45\n",
       "4     HFGFwqQPQGwHrTFpw     mThMbDDVcVmLvvshj       T      46"
      ]
     },
     "execution_count": 22,
     "metadata": {},
     "output_type": "execute_result"
    }
   ],
   "source": [
    "df3.head()"
   ]
  },
  {
   "cell_type": "markdown",
   "id": "e1a88d82",
   "metadata": {},
   "source": [
    "#### Question 1: What is the sum of the priorities of the matching item types?"
   ]
  },
  {
   "cell_type": "code",
   "execution_count": 23,
   "id": "a68396fb",
   "metadata": {},
   "outputs": [
    {
     "data": {
      "text/plain": [
       "compartment1    NLBLfrNNLvqwbMfDlTRGPPZnRRHCFTTFtFHTtCBJldgBWn...\n",
       "compartment2    qSjSzzSJjjggcdVsszcsZdSsccZtDDzrmBtrBDhMcLcVSv...\n",
       "matches         qZtSTfjmZWJcSqjpqQtRSdSNsjHHGrLjgpHvvdJDQpRDPD...\n",
       "points                                                       7990\n",
       "dtype: object"
      ]
     },
     "execution_count": 23,
     "metadata": {},
     "output_type": "execute_result"
    }
   ],
   "source": [
    "df3.sum()"
   ]
  },
  {
   "cell_type": "markdown",
   "id": "cec62d0a",
   "metadata": {},
   "source": [
    "#### Question 2: What is the sum of the priorities of the matching item types among the groups of 3 elves?"
   ]
  },
  {
   "cell_type": "code",
   "execution_count": 30,
   "id": "1d423cee",
   "metadata": {},
   "outputs": [],
   "source": [
    "my_list = [1,2,3]\n",
    "n = 100\n",
    "\n",
    "groupings = my_list * n"
   ]
  },
  {
   "cell_type": "code",
   "execution_count": 31,
   "id": "87cccaf9",
   "metadata": {},
   "outputs": [
    {
     "name": "stdout",
     "output_type": "stream",
     "text": [
      "300 [1, 2, 3, 1, 2, 3, 1, 2, 3, 1]\n"
     ]
    }
   ],
   "source": [
    "print(len(groupings), groupings[:10])"
   ]
  },
  {
   "cell_type": "code",
   "execution_count": 32,
   "id": "ba50fe73",
   "metadata": {},
   "outputs": [],
   "source": [
    "df4 = df\n",
    "df4['groupings'] = groupings"
   ]
  },
  {
   "cell_type": "code",
   "execution_count": 33,
   "id": "c7d3a1d6",
   "metadata": {},
   "outputs": [
    {
     "data": {
      "text/html": [
       "<div>\n",
       "<style scoped>\n",
       "    .dataframe tbody tr th:only-of-type {\n",
       "        vertical-align: middle;\n",
       "    }\n",
       "\n",
       "    .dataframe tbody tr th {\n",
       "        vertical-align: top;\n",
       "    }\n",
       "\n",
       "    .dataframe thead th {\n",
       "        text-align: right;\n",
       "    }\n",
       "</style>\n",
       "<table border=\"1\" class=\"dataframe\">\n",
       "  <thead>\n",
       "    <tr style=\"text-align: right;\">\n",
       "      <th></th>\n",
       "      <th>rucksacks</th>\n",
       "      <th>groupings</th>\n",
       "    </tr>\n",
       "  </thead>\n",
       "  <tbody>\n",
       "    <tr>\n",
       "      <th>0</th>\n",
       "      <td>NLBLfrNNLvqwbMfDqSjSzzSJjjggcdVs</td>\n",
       "      <td>1</td>\n",
       "    </tr>\n",
       "    <tr>\n",
       "      <th>1</th>\n",
       "      <td>lTRGPPZnRRHszcsZdSsccZ</td>\n",
       "      <td>2</td>\n",
       "    </tr>\n",
       "    <tr>\n",
       "      <th>2</th>\n",
       "      <td>CFTTFtFHTtCtDDzrmBtrBD</td>\n",
       "      <td>3</td>\n",
       "    </tr>\n",
       "    <tr>\n",
       "      <th>3</th>\n",
       "      <td>BJldgBWnRgWNWtllSlWShMcLcVSvVjbVVVvDVVVL</td>\n",
       "      <td>1</td>\n",
       "    </tr>\n",
       "    <tr>\n",
       "      <th>4</th>\n",
       "      <td>HFGFwqQPQGwHrTFpwmThMbDDVcVmLvvshj</td>\n",
       "      <td>2</td>\n",
       "    </tr>\n",
       "  </tbody>\n",
       "</table>\n",
       "</div>"
      ],
      "text/plain": [
       "                                  rucksacks  groupings\n",
       "0          NLBLfrNNLvqwbMfDqSjSzzSJjjggcdVs          1\n",
       "1                    lTRGPPZnRRHszcsZdSsccZ          2\n",
       "2                    CFTTFtFHTtCtDDzrmBtrBD          3\n",
       "3  BJldgBWnRgWNWtllSlWShMcLcVSvVjbVVVvDVVVL          1\n",
       "4        HFGFwqQPQGwHrTFpwmThMbDDVcVmLvvshj          2"
      ]
     },
     "execution_count": 33,
     "metadata": {},
     "output_type": "execute_result"
    }
   ],
   "source": [
    "df4.head()"
   ]
  },
  {
   "cell_type": "code",
   "execution_count": 36,
   "id": "82efe83c",
   "metadata": {},
   "outputs": [],
   "source": [
    "df5 = df4.pivot(index = None, columns = 'groupings', values = 'rucksacks')"
   ]
  },
  {
   "cell_type": "code",
   "execution_count": 37,
   "id": "b15b2430",
   "metadata": {},
   "outputs": [
    {
     "data": {
      "text/html": [
       "<div>\n",
       "<style scoped>\n",
       "    .dataframe tbody tr th:only-of-type {\n",
       "        vertical-align: middle;\n",
       "    }\n",
       "\n",
       "    .dataframe tbody tr th {\n",
       "        vertical-align: top;\n",
       "    }\n",
       "\n",
       "    .dataframe thead th {\n",
       "        text-align: right;\n",
       "    }\n",
       "</style>\n",
       "<table border=\"1\" class=\"dataframe\">\n",
       "  <thead>\n",
       "    <tr style=\"text-align: right;\">\n",
       "      <th>groupings</th>\n",
       "      <th>1</th>\n",
       "      <th>2</th>\n",
       "      <th>3</th>\n",
       "    </tr>\n",
       "  </thead>\n",
       "  <tbody>\n",
       "    <tr>\n",
       "      <th>0</th>\n",
       "      <td>NLBLfrNNLvqwbMfDqSjSzzSJjjggcdVs</td>\n",
       "      <td>NaN</td>\n",
       "      <td>NaN</td>\n",
       "    </tr>\n",
       "    <tr>\n",
       "      <th>1</th>\n",
       "      <td>NaN</td>\n",
       "      <td>lTRGPPZnRRHszcsZdSsccZ</td>\n",
       "      <td>NaN</td>\n",
       "    </tr>\n",
       "    <tr>\n",
       "      <th>2</th>\n",
       "      <td>NaN</td>\n",
       "      <td>NaN</td>\n",
       "      <td>CFTTFtFHTtCtDDzrmBtrBD</td>\n",
       "    </tr>\n",
       "    <tr>\n",
       "      <th>3</th>\n",
       "      <td>BJldgBWnRgWNWtllSlWShMcLcVSvVjbVVVvDVVVL</td>\n",
       "      <td>NaN</td>\n",
       "      <td>NaN</td>\n",
       "    </tr>\n",
       "    <tr>\n",
       "      <th>4</th>\n",
       "      <td>NaN</td>\n",
       "      <td>HFGFwqQPQGwHrTFpwmThMbDDVcVmLvvshj</td>\n",
       "      <td>NaN</td>\n",
       "    </tr>\n",
       "  </tbody>\n",
       "</table>\n",
       "</div>"
      ],
      "text/plain": [
       "groupings                                         1  \\\n",
       "0                  NLBLfrNNLvqwbMfDqSjSzzSJjjggcdVs   \n",
       "1                                               NaN   \n",
       "2                                               NaN   \n",
       "3          BJldgBWnRgWNWtllSlWShMcLcVSvVjbVVVvDVVVL   \n",
       "4                                               NaN   \n",
       "\n",
       "groupings                                   2                       3  \n",
       "0                                         NaN                     NaN  \n",
       "1                      lTRGPPZnRRHszcsZdSsccZ                     NaN  \n",
       "2                                         NaN  CFTTFtFHTtCtDDzrmBtrBD  \n",
       "3                                         NaN                     NaN  \n",
       "4          HFGFwqQPQGwHrTFpwmThMbDDVcVmLvvshj                     NaN  "
      ]
     },
     "execution_count": 37,
     "metadata": {},
     "output_type": "execute_result"
    }
   ],
   "source": [
    "df5.head()"
   ]
  },
  {
   "cell_type": "code",
   "execution_count": 38,
   "id": "1c993ea3",
   "metadata": {},
   "outputs": [],
   "source": [
    "df6 = df5.apply(lambda x: pd.Series(x.dropna().values))"
   ]
  },
  {
   "cell_type": "code",
   "execution_count": 42,
   "id": "2d1852cd",
   "metadata": {},
   "outputs": [
    {
     "data": {
      "text/html": [
       "<div>\n",
       "<style scoped>\n",
       "    .dataframe tbody tr th:only-of-type {\n",
       "        vertical-align: middle;\n",
       "    }\n",
       "\n",
       "    .dataframe tbody tr th {\n",
       "        vertical-align: top;\n",
       "    }\n",
       "\n",
       "    .dataframe thead th {\n",
       "        text-align: right;\n",
       "    }\n",
       "</style>\n",
       "<table border=\"1\" class=\"dataframe\">\n",
       "  <thead>\n",
       "    <tr style=\"text-align: right;\">\n",
       "      <th></th>\n",
       "      <th>compartment1</th>\n",
       "      <th>compartment2</th>\n",
       "      <th>compartment3</th>\n",
       "    </tr>\n",
       "  </thead>\n",
       "  <tbody>\n",
       "    <tr>\n",
       "      <th>0</th>\n",
       "      <td>NLBLfrNNLvqwbMfDqSjSzzSJjjggcdVs</td>\n",
       "      <td>lTRGPPZnRRHszcsZdSsccZ</td>\n",
       "      <td>CFTTFtFHTtCtDDzrmBtrBD</td>\n",
       "    </tr>\n",
       "    <tr>\n",
       "      <th>1</th>\n",
       "      <td>BJldgBWnRgWNWtllSlWShMcLcVSvVjbVVVvDVVVL</td>\n",
       "      <td>HFGFwqQPQGwHrTFpwmThMbDDVcVmLvvshj</td>\n",
       "      <td>HrpHrGPZZCQrfqlNdtMlzfMltlgn</td>\n",
       "    </tr>\n",
       "    <tr>\n",
       "      <th>2</th>\n",
       "      <td>hQLhBtBtQNQjBjNLvtLjzLJpWbjJdppSwjpCCplllJdj</td>\n",
       "      <td>FGFsmccSPTVPfVVHpJJgwlJwwWJWpCmR</td>\n",
       "      <td>sFPfPFHZTHScnzBttqzvQzqZ</td>\n",
       "    </tr>\n",
       "    <tr>\n",
       "      <th>3</th>\n",
       "      <td>MNTGMTnGWvTwwwnZhNZnWDPPdSjqsSPWjmBCSBWS</td>\n",
       "      <td>RJrtVfRlLrfHgblHJVBjqqFmjCdBJjDmJdSD</td>\n",
       "      <td>tgRftftRcRLftrpHpflHlctVwNNvZNcTwZnznQzwTzmhQwQh</td>\n",
       "    </tr>\n",
       "    <tr>\n",
       "      <th>4</th>\n",
       "      <td>sQPpQpQhnlNsJpJSQphHcZffLfgLHSfHVHHFZZ</td>\n",
       "      <td>zBCvrrWzTwqzcbtbqCbrCCwWLMfVVmmHVfqHFHFgGHLZGmVG</td>\n",
       "      <td>rvvjBzTjrwQRcpjNsRss</td>\n",
       "    </tr>\n",
       "  </tbody>\n",
       "</table>\n",
       "</div>"
      ],
      "text/plain": [
       "                                   compartment1  \\\n",
       "0              NLBLfrNNLvqwbMfDqSjSzzSJjjggcdVs   \n",
       "1      BJldgBWnRgWNWtllSlWShMcLcVSvVjbVVVvDVVVL   \n",
       "2  hQLhBtBtQNQjBjNLvtLjzLJpWbjJdppSwjpCCplllJdj   \n",
       "3      MNTGMTnGWvTwwwnZhNZnWDPPdSjqsSPWjmBCSBWS   \n",
       "4        sQPpQpQhnlNsJpJSQphHcZffLfgLHSfHVHHFZZ   \n",
       "\n",
       "                                       compartment2  \\\n",
       "0                            lTRGPPZnRRHszcsZdSsccZ   \n",
       "1                HFGFwqQPQGwHrTFpwmThMbDDVcVmLvvshj   \n",
       "2                  FGFsmccSPTVPfVVHpJJgwlJwwWJWpCmR   \n",
       "3              RJrtVfRlLrfHgblHJVBjqqFmjCdBJjDmJdSD   \n",
       "4  zBCvrrWzTwqzcbtbqCbrCCwWLMfVVmmHVfqHFHFgGHLZGmVG   \n",
       "\n",
       "                                       compartment3  \n",
       "0                            CFTTFtFHTtCtDDzrmBtrBD  \n",
       "1                      HrpHrGPZZCQrfqlNdtMlzfMltlgn  \n",
       "2                          sFPfPFHZTHScnzBttqzvQzqZ  \n",
       "3  tgRftftRcRLftrpHpflHlctVwNNvZNcTwZnznQzwTzmhQwQh  \n",
       "4                              rvvjBzTjrwQRcpjNsRss  "
      ]
     },
     "execution_count": 42,
     "metadata": {},
     "output_type": "execute_result"
    }
   ],
   "source": [
    "df6.columns = ['compartment1', 'compartment2', 'compartment3']\n",
    "df6.head()"
   ]
  },
  {
   "cell_type": "code",
   "execution_count": 40,
   "id": "87155bf9",
   "metadata": {},
   "outputs": [
    {
     "data": {
      "text/plain": [
       "100"
      ]
     },
     "execution_count": 40,
     "metadata": {},
     "output_type": "execute_result"
    }
   ],
   "source": [
    "len(df6)"
   ]
  },
  {
   "cell_type": "code",
   "execution_count": 48,
   "id": "f2bd0400",
   "metadata": {},
   "outputs": [],
   "source": [
    "match_3 = []\n",
    "\n",
    "for a, b, c in zip(df6.compartment1, df6.compartment2, df6.compartment3):\n",
    "    z = set(a).intersection(b).intersection(c)\n",
    "    match_3.append(z)"
   ]
  },
  {
   "cell_type": "code",
   "execution_count": 49,
   "id": "911b26f5",
   "metadata": {},
   "outputs": [
    {
     "name": "stdout",
     "output_type": "stream",
     "text": [
      "[{'z'}, {'M'}, {'S'}, {'m'}, {'c'}, {'n'}, {'g'}, {'s'}, {'p'}, {'p'}, {'t'}, {'h'}, {'T'}, {'l'}, {'H'}, {'n'}, {'B'}, {'r'}, {'W'}, {'H'}, {'G'}, {'w'}, {'M'}, {'P'}, {'r'}, {'n'}, {'d'}, {'L'}, {'w'}, {'F'}, {'J'}, {'z'}, {'m'}, {'P'}, {'s'}, {'R'}, {'W'}, {'s'}, {'V'}, {'f'}, {'Q'}, {'R'}, {'J'}, {'r'}, {'C'}, {'B'}, {'j'}, {'t'}, {'d'}, {'F'}, {'P'}, {'d'}, {'T'}, {'v'}, {'g'}, {'V'}, {'d'}, {'l'}, {'P'}, {'d'}, {'j'}, {'g'}, {'t'}, {'S'}, {'L'}, {'f'}, {'T'}, {'M'}, {'r'}, {'n'}, {'g'}, {'Z'}, {'L'}, {'j'}, {'M'}, {'G'}, {'G'}, {'Z'}, {'p'}, {'M'}, {'n'}, {'M'}, {'V'}, {'h'}, {'l'}, {'R'}, {'N'}, {'p'}, {'H'}, {'n'}, {'P'}, {'s'}, {'j'}, {'l'}, {'J'}, {'p'}, {'D'}, {'H'}, {'h'}, {'N'}]\n",
      "100\n"
     ]
    }
   ],
   "source": [
    "print(match_3)\n",
    "print(len(match_3))"
   ]
  },
  {
   "cell_type": "code",
   "execution_count": 50,
   "id": "28f334d3",
   "metadata": {},
   "outputs": [],
   "source": [
    "matchlist_3 = []\n",
    "\n",
    "for sublist in match_3:\n",
    "    for item in sublist:\n",
    "        matchlist_3.append(item)"
   ]
  },
  {
   "cell_type": "code",
   "execution_count": 51,
   "id": "90c1c537",
   "metadata": {},
   "outputs": [
    {
     "name": "stdout",
     "output_type": "stream",
     "text": [
      "['z', 'M', 'S', 'm', 'c', 'n', 'g', 's', 'p', 'p', 't', 'h', 'T', 'l', 'H', 'n', 'B', 'r', 'W', 'H', 'G', 'w', 'M', 'P', 'r', 'n', 'd', 'L', 'w', 'F', 'J', 'z', 'm', 'P', 's', 'R', 'W', 's', 'V', 'f', 'Q', 'R', 'J', 'r', 'C', 'B', 'j', 't', 'd', 'F', 'P', 'd', 'T', 'v', 'g', 'V', 'd', 'l', 'P', 'd', 'j', 'g', 't', 'S', 'L', 'f', 'T', 'M', 'r', 'n', 'g', 'Z', 'L', 'j', 'M', 'G', 'G', 'Z', 'p', 'M', 'n', 'M', 'V', 'h', 'l', 'R', 'N', 'p', 'H', 'n', 'P', 's', 'j', 'l', 'J', 'p', 'D', 'H', 'h', 'N']\n"
     ]
    }
   ],
   "source": [
    "print(matchlist_3)"
   ]
  },
  {
   "cell_type": "code",
   "execution_count": 52,
   "id": "5a15bc86",
   "metadata": {},
   "outputs": [],
   "source": [
    "df6['matches'] = matchlist_3"
   ]
  },
  {
   "cell_type": "code",
   "execution_count": 53,
   "id": "07501729",
   "metadata": {},
   "outputs": [
    {
     "data": {
      "text/html": [
       "<div>\n",
       "<style scoped>\n",
       "    .dataframe tbody tr th:only-of-type {\n",
       "        vertical-align: middle;\n",
       "    }\n",
       "\n",
       "    .dataframe tbody tr th {\n",
       "        vertical-align: top;\n",
       "    }\n",
       "\n",
       "    .dataframe thead th {\n",
       "        text-align: right;\n",
       "    }\n",
       "</style>\n",
       "<table border=\"1\" class=\"dataframe\">\n",
       "  <thead>\n",
       "    <tr style=\"text-align: right;\">\n",
       "      <th></th>\n",
       "      <th>compartment1</th>\n",
       "      <th>compartment2</th>\n",
       "      <th>compartment3</th>\n",
       "      <th>matches</th>\n",
       "    </tr>\n",
       "  </thead>\n",
       "  <tbody>\n",
       "    <tr>\n",
       "      <th>0</th>\n",
       "      <td>NLBLfrNNLvqwbMfDqSjSzzSJjjggcdVs</td>\n",
       "      <td>lTRGPPZnRRHszcsZdSsccZ</td>\n",
       "      <td>CFTTFtFHTtCtDDzrmBtrBD</td>\n",
       "      <td>z</td>\n",
       "    </tr>\n",
       "    <tr>\n",
       "      <th>1</th>\n",
       "      <td>BJldgBWnRgWNWtllSlWShMcLcVSvVjbVVVvDVVVL</td>\n",
       "      <td>HFGFwqQPQGwHrTFpwmThMbDDVcVmLvvshj</td>\n",
       "      <td>HrpHrGPZZCQrfqlNdtMlzfMltlgn</td>\n",
       "      <td>M</td>\n",
       "    </tr>\n",
       "    <tr>\n",
       "      <th>2</th>\n",
       "      <td>hQLhBtBtQNQjBjNLvtLjzLJpWbjJdppSwjpCCplllJdj</td>\n",
       "      <td>FGFsmccSPTVPfVVHpJJgwlJwwWJWpCmR</td>\n",
       "      <td>sFPfPFHZTHScnzBttqzvQzqZ</td>\n",
       "      <td>S</td>\n",
       "    </tr>\n",
       "    <tr>\n",
       "      <th>3</th>\n",
       "      <td>MNTGMTnGWvTwwwnZhNZnWDPPdSjqsSPWjmBCSBWS</td>\n",
       "      <td>RJrtVfRlLrfHgblHJVBjqqFmjCdBJjDmJdSD</td>\n",
       "      <td>tgRftftRcRLftrpHpflHlctVwNNvZNcTwZnznQzwTzmhQwQh</td>\n",
       "      <td>m</td>\n",
       "    </tr>\n",
       "    <tr>\n",
       "      <th>4</th>\n",
       "      <td>sQPpQpQhnlNsJpJSQphHcZffLfgLHSfHVHHFZZ</td>\n",
       "      <td>zBCvrrWzTwqzcbtbqCbrCCwWLMfVVmmHVfqHFHFgGHLZGmVG</td>\n",
       "      <td>rvvjBzTjrwQRcpjNsRss</td>\n",
       "      <td>c</td>\n",
       "    </tr>\n",
       "  </tbody>\n",
       "</table>\n",
       "</div>"
      ],
      "text/plain": [
       "                                   compartment1  \\\n",
       "0              NLBLfrNNLvqwbMfDqSjSzzSJjjggcdVs   \n",
       "1      BJldgBWnRgWNWtllSlWShMcLcVSvVjbVVVvDVVVL   \n",
       "2  hQLhBtBtQNQjBjNLvtLjzLJpWbjJdppSwjpCCplllJdj   \n",
       "3      MNTGMTnGWvTwwwnZhNZnWDPPdSjqsSPWjmBCSBWS   \n",
       "4        sQPpQpQhnlNsJpJSQphHcZffLfgLHSfHVHHFZZ   \n",
       "\n",
       "                                       compartment2  \\\n",
       "0                            lTRGPPZnRRHszcsZdSsccZ   \n",
       "1                HFGFwqQPQGwHrTFpwmThMbDDVcVmLvvshj   \n",
       "2                  FGFsmccSPTVPfVVHpJJgwlJwwWJWpCmR   \n",
       "3              RJrtVfRlLrfHgblHJVBjqqFmjCdBJjDmJdSD   \n",
       "4  zBCvrrWzTwqzcbtbqCbrCCwWLMfVVmmHVfqHFHFgGHLZGmVG   \n",
       "\n",
       "                                       compartment3 matches  \n",
       "0                            CFTTFtFHTtCtDDzrmBtrBD       z  \n",
       "1                      HrpHrGPZZCQrfqlNdtMlzfMltlgn       M  \n",
       "2                          sFPfPFHZTHScnzBttqzvQzqZ       S  \n",
       "3  tgRftftRcRLftrpHpflHlctVwNNvZNcTwZnznQzwTzmhQwQh       m  \n",
       "4                              rvvjBzTjrwQRcpjNsRss       c  "
      ]
     },
     "execution_count": 53,
     "metadata": {},
     "output_type": "execute_result"
    }
   ],
   "source": [
    "df6.head()"
   ]
  },
  {
   "cell_type": "code",
   "execution_count": 54,
   "id": "f19bd7f3",
   "metadata": {},
   "outputs": [],
   "source": [
    "df7 = df6.merge(priority, left_on='matches', right_on = 'alphabet', how = 'left').drop(columns = ['alphabet'])"
   ]
  },
  {
   "cell_type": "code",
   "execution_count": 55,
   "id": "5c9df2f1",
   "metadata": {},
   "outputs": [
    {
     "data": {
      "text/html": [
       "<div>\n",
       "<style scoped>\n",
       "    .dataframe tbody tr th:only-of-type {\n",
       "        vertical-align: middle;\n",
       "    }\n",
       "\n",
       "    .dataframe tbody tr th {\n",
       "        vertical-align: top;\n",
       "    }\n",
       "\n",
       "    .dataframe thead th {\n",
       "        text-align: right;\n",
       "    }\n",
       "</style>\n",
       "<table border=\"1\" class=\"dataframe\">\n",
       "  <thead>\n",
       "    <tr style=\"text-align: right;\">\n",
       "      <th></th>\n",
       "      <th>compartment1</th>\n",
       "      <th>compartment2</th>\n",
       "      <th>compartment3</th>\n",
       "      <th>matches</th>\n",
       "      <th>points</th>\n",
       "    </tr>\n",
       "  </thead>\n",
       "  <tbody>\n",
       "    <tr>\n",
       "      <th>0</th>\n",
       "      <td>NLBLfrNNLvqwbMfDqSjSzzSJjjggcdVs</td>\n",
       "      <td>lTRGPPZnRRHszcsZdSsccZ</td>\n",
       "      <td>CFTTFtFHTtCtDDzrmBtrBD</td>\n",
       "      <td>z</td>\n",
       "      <td>26</td>\n",
       "    </tr>\n",
       "    <tr>\n",
       "      <th>1</th>\n",
       "      <td>BJldgBWnRgWNWtllSlWShMcLcVSvVjbVVVvDVVVL</td>\n",
       "      <td>HFGFwqQPQGwHrTFpwmThMbDDVcVmLvvshj</td>\n",
       "      <td>HrpHrGPZZCQrfqlNdtMlzfMltlgn</td>\n",
       "      <td>M</td>\n",
       "      <td>39</td>\n",
       "    </tr>\n",
       "    <tr>\n",
       "      <th>2</th>\n",
       "      <td>hQLhBtBtQNQjBjNLvtLjzLJpWbjJdppSwjpCCplllJdj</td>\n",
       "      <td>FGFsmccSPTVPfVVHpJJgwlJwwWJWpCmR</td>\n",
       "      <td>sFPfPFHZTHScnzBttqzvQzqZ</td>\n",
       "      <td>S</td>\n",
       "      <td>45</td>\n",
       "    </tr>\n",
       "    <tr>\n",
       "      <th>3</th>\n",
       "      <td>MNTGMTnGWvTwwwnZhNZnWDPPdSjqsSPWjmBCSBWS</td>\n",
       "      <td>RJrtVfRlLrfHgblHJVBjqqFmjCdBJjDmJdSD</td>\n",
       "      <td>tgRftftRcRLftrpHpflHlctVwNNvZNcTwZnznQzwTzmhQwQh</td>\n",
       "      <td>m</td>\n",
       "      <td>13</td>\n",
       "    </tr>\n",
       "    <tr>\n",
       "      <th>4</th>\n",
       "      <td>sQPpQpQhnlNsJpJSQphHcZffLfgLHSfHVHHFZZ</td>\n",
       "      <td>zBCvrrWzTwqzcbtbqCbrCCwWLMfVVmmHVfqHFHFgGHLZGmVG</td>\n",
       "      <td>rvvjBzTjrwQRcpjNsRss</td>\n",
       "      <td>c</td>\n",
       "      <td>3</td>\n",
       "    </tr>\n",
       "  </tbody>\n",
       "</table>\n",
       "</div>"
      ],
      "text/plain": [
       "                                   compartment1  \\\n",
       "0              NLBLfrNNLvqwbMfDqSjSzzSJjjggcdVs   \n",
       "1      BJldgBWnRgWNWtllSlWShMcLcVSvVjbVVVvDVVVL   \n",
       "2  hQLhBtBtQNQjBjNLvtLjzLJpWbjJdppSwjpCCplllJdj   \n",
       "3      MNTGMTnGWvTwwwnZhNZnWDPPdSjqsSPWjmBCSBWS   \n",
       "4        sQPpQpQhnlNsJpJSQphHcZffLfgLHSfHVHHFZZ   \n",
       "\n",
       "                                       compartment2  \\\n",
       "0                            lTRGPPZnRRHszcsZdSsccZ   \n",
       "1                HFGFwqQPQGwHrTFpwmThMbDDVcVmLvvshj   \n",
       "2                  FGFsmccSPTVPfVVHpJJgwlJwwWJWpCmR   \n",
       "3              RJrtVfRlLrfHgblHJVBjqqFmjCdBJjDmJdSD   \n",
       "4  zBCvrrWzTwqzcbtbqCbrCCwWLMfVVmmHVfqHFHFgGHLZGmVG   \n",
       "\n",
       "                                       compartment3 matches  points  \n",
       "0                            CFTTFtFHTtCtDDzrmBtrBD       z      26  \n",
       "1                      HrpHrGPZZCQrfqlNdtMlzfMltlgn       M      39  \n",
       "2                          sFPfPFHZTHScnzBttqzvQzqZ       S      45  \n",
       "3  tgRftftRcRLftrpHpflHlctVwNNvZNcTwZnznQzwTzmhQwQh       m      13  \n",
       "4                              rvvjBzTjrwQRcpjNsRss       c       3  "
      ]
     },
     "execution_count": 55,
     "metadata": {},
     "output_type": "execute_result"
    }
   ],
   "source": [
    "df7.head()"
   ]
  },
  {
   "cell_type": "code",
   "execution_count": 56,
   "id": "289822be",
   "metadata": {},
   "outputs": [
    {
     "data": {
      "text/plain": [
       "compartment1    NLBLfrNNLvqwbMfDqSjSzzSJjjggcdVsBJldgBWnRgWNWt...\n",
       "compartment2    lTRGPPZnRRHszcsZdSsccZHFGFwqQPQGwHrTFpwmThMbDD...\n",
       "compartment3    CFTTFtFHTtCtDDzrmBtrBDHrpHrGPZZCQrfqlNdtMlzfMl...\n",
       "matches         zMSmcngsppthTlHnBrWHGwMPrndLwFJzmPsRWsVfQRJrCB...\n",
       "points                                                       2602\n",
       "dtype: object"
      ]
     },
     "execution_count": 56,
     "metadata": {},
     "output_type": "execute_result"
    }
   ],
   "source": [
    "df7.sum()"
   ]
  },
  {
   "cell_type": "code",
   "execution_count": null,
   "id": "53584662",
   "metadata": {},
   "outputs": [],
   "source": []
  }
 ],
 "metadata": {
  "kernelspec": {
   "display_name": "Python 3 (ipykernel)",
   "language": "python",
   "name": "python3"
  },
  "language_info": {
   "codemirror_mode": {
    "name": "ipython",
    "version": 3
   },
   "file_extension": ".py",
   "mimetype": "text/x-python",
   "name": "python",
   "nbconvert_exporter": "python",
   "pygments_lexer": "ipython3",
   "version": "3.9.13"
  }
 },
 "nbformat": 4,
 "nbformat_minor": 5
}
