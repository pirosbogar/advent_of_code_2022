{
 "cells": [
  {
   "cell_type": "code",
   "execution_count": null,
   "id": "3216be67",
   "metadata": {},
   "outputs": [],
   "source": [
    "import pandas as pd\n",
    "import numpy as np\n",
    "import requests\n",
    "import csv\n",
    "import string\n"
   ]
  },
  {
   "cell_type": "code",
   "execution_count": null,
   "id": "abab1b18",
   "metadata": {},
   "outputs": [],
   "source": [
    "input_file = \"https://raw.githubusercontent.com/pirosbogar/advent_of_code_2022/main/inputs/08/input.txt\""
   ]
  },
  {
   "cell_type": "code",
   "execution_count": null,
   "id": "72e6b674",
   "metadata": {},
   "outputs": [],
   "source": [
    "# read input file\n",
    "df = pd.read_csv(\n",
    "                input_file, \n",
    "                 #sep=',',\n",
    "                 skip_blank_lines=False, header = None, names = ['rows'])"
   ]
  },
  {
   "cell_type": "code",
   "execution_count": null,
   "id": "9bfcf6ac",
   "metadata": {},
   "outputs": [],
   "source": []
  }
 ],
 "metadata": {
  "kernelspec": {
   "display_name": "Python 3 (ipykernel)",
   "language": "python",
   "name": "python3"
  },
  "language_info": {
   "codemirror_mode": {
    "name": "ipython",
    "version": 3
   },
   "file_extension": ".py",
   "mimetype": "text/x-python",
   "name": "python",
   "nbconvert_exporter": "python",
   "pygments_lexer": "ipython3",
   "version": "3.9.12"
  }
 },
 "nbformat": 4,
 "nbformat_minor": 5
}
