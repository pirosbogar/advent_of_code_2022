{
 "cells": [
  {
   "cell_type": "code",
   "execution_count": null,
   "id": "6e2eff6c",
   "metadata": {},
   "outputs": [],
   "source": [
    "#### Used the walkthrough by u/Derailed_Dash: https://aoc.just2good.co.uk/2022/11#part-1"
   ]
  },
  {
   "cell_type": "code",
   "execution_count": null,
   "id": "8021021c",
   "metadata": {},
   "outputs": [],
   "source": [
    "class Monkey:\n",
    "    \"\"\" The monkey has a bunch of my things. \n",
    "    start_items = worry level for each item, in the order they will be inspected\n",
    "    worry_op = how worry level changes as the monkey inspects the item\n",
    "    \"\"\"\n",
    "    def __init__(self, monkey_id: int, items: list, worry_op: str, div: int, throw_to: list) -> None:\n",
    "        self.monkey_id = monkey_id # E.g. 0\n",
    "        self.start_items = items # E.g. [79, 98]\n",
    "        self._worry_op = worry_op  # E.g. old * 19\n",
    "        self.divisor = div  # E.g. 13\n",
    "        self._throw_to = throw_to # E.g. [2, 3]\n",
    "        self.inspect_count = 0\n",
    "    \n",
    "    def add_item(self, item:int):\n",
    "        self.start_items.append(item)\n",
    "        \n",
    "    def inspect(self) -> int:\n",
    "        \"\"\" Inspects the next item in the list. \n",
    "        Inspecting causes our worry level to go up, as given by worry_op. \n",
    "        If relief enabled, we then reduce our worry level by //3.\n",
    "        Then we work out who to throw to, by dividing by a divisor.\n",
    "        \n",
    "        In part 2:\n",
    "          - relief is disabled and worry level can get VERY LARGE!!\n",
    "          - We can significantly reduce this number by using LCM trick.\n",
    "         \"\"\"\n",
    "        \n",
    "        self.inspect_count += 1\n",
    "        \n",
    "        # turn \"old * 19\" into \"79 * 19\"\n",
    "        worry_op = self._worry_op.replace(\"old\", str(self.start_items[0]))\n",
    "        \n",
    "        first, the_op, second = re.findall(r\"(\\w+) (.) (\\w+)\", worry_op)[0]\n",
    "        ops_dict = {\n",
    "            \"+\": operator.add,\n",
    "            \"*\": operator.mul\n",
    "        }\n",
    "        \n",
    "        self.start_items[0] = ops_dict[the_op](int(first), int(second))\n",
    "    \n",
    "        # Relief. Rule = divide by three and round down\n",
    "        self.start_items[0] //= 3\n",
    "        \n",
    "        return self._throw_to[0] if self.start_items[0] % self.divisor == 0 \\\n",
    "                                 else self._throw_to[1]\n",
    "    \n",
    "    def throw_to(self, other: Monkey):\n",
    "        other.add_item(self.start_items.pop(0))\n",
    "        \n",
    "    def __repr__(self) -> str:\n",
    "        return f\"Monkey:(id={self.monkey_id}, items={self.start_items}, \" \\\n",
    "                + f\"inspect_count={self.inspect_count})\""
   ]
  }
 ],
 "metadata": {
  "kernelspec": {
   "display_name": "Python 3 (ipykernel)",
   "language": "python",
   "name": "python3"
  },
  "language_info": {
   "codemirror_mode": {
    "name": "ipython",
    "version": 3
   },
   "file_extension": ".py",
   "mimetype": "text/x-python",
   "name": "python",
   "nbconvert_exporter": "python",
   "pygments_lexer": "ipython3",
   "version": "3.9.12"
  }
 },
 "nbformat": 4,
 "nbformat_minor": 5
}
