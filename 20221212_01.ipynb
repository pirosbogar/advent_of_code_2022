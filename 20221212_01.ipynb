{
 "cells": [
  {
   "cell_type": "code",
   "execution_count": 70,
   "id": "90eb7f4f",
   "metadata": {},
   "outputs": [],
   "source": [
    "import pandas as pd\n",
    "import numpy as np\n",
    "import requests\n",
    "import csv\n",
    "import string\n",
    "import requests\n",
    "import urllib\n",
    "from bs4 import BeautifulSoup"
   ]
  },
  {
   "cell_type": "code",
   "execution_count": 71,
   "id": "51ecff17",
   "metadata": {},
   "outputs": [],
   "source": [
    "# read input file\n",
    "input_file = \"https://raw.githubusercontent.com/pirosbogar/advent_of_code_2022/main/inputs/12/input.txt\"\n",
    "r = requests.get(input_file)"
   ]
  },
  {
   "cell_type": "code",
   "execution_count": 72,
   "id": "cfcb57be",
   "metadata": {},
   "outputs": [],
   "source": [
    "#Creating a list of \n",
    "page = urllib.request.urlopen(input_file).read()\n",
    "grid = page.decode('utf-8').split('\\n')"
   ]
  },
  {
   "cell_type": "code",
   "execution_count": 73,
   "id": "f2ed2610",
   "metadata": {},
   "outputs": [
    {
     "name": "stdout",
     "output_type": "stream",
     "text": [
      "162\n"
     ]
    }
   ],
   "source": [
    "#Number of letters in a row\n",
    "counter = 0\n",
    "for a in grid[1]:\n",
    "    counter+=1\n",
    "print(counter)"
   ]
  },
  {
   "cell_type": "code",
   "execution_count": 74,
   "id": "7b0933e0",
   "metadata": {},
   "outputs": [],
   "source": [
    "#Taken from u/VioletVal529\n",
    "    \n",
    "d = {chr(i): i - 96 for i in range(97, 97+26)}\n",
    "d['S'] = 1\n",
    "d['E'] = 26\n",
    "dirs = [(0, 1), (1, 0), (0, -1), (-1, 0)]\n",
    "start, end = None, None\n",
    "for i, line in enumerate(grid):\n",
    "    if 'S' in line:\n",
    "        j = line.index('S')\n",
    "        start = (i, j)\n",
    "    if 'E' in line:\n",
    "        j = line.index('E')\n",
    "        end = (i, j)\n",
    "\n",
    "#Breadth First Search\n",
    "def bfs(start, end):\n",
    "    q = deque()\n",
    "    seen = set()\n",
    "    q.append([start])\n",
    "    while q:\n",
    "        path = q.popleft()\n",
    "        r, c = path[-1]\n",
    "        if (r, c) not in seen:\n",
    "            seen.add((r, c))\n",
    "            if (r, c) == end:\n",
    "                return len(path) - 1\n",
    "            ch = grid[r][c]\n",
    "            height1 = d[ch]\n",
    "            for dr, dc in dirs:\n",
    "                nr, nc = r + dr, c + dc\n",
    "                if 0 <= nr < len(grid) and 0 <= nc < len(grid[0]):\n",
    "                    ch = grid[nr][nc]\n",
    "                    height2 = d[ch]\n",
    "                    if height2 <= height1 + 1:\n",
    "                        path_copy = path[:]\n",
    "                        path_copy.append((nr, nc))\n",
    "                        q.append(path_copy)"
   ]
  },
  {
   "cell_type": "code",
   "execution_count": 75,
   "id": "ba410c7a",
   "metadata": {},
   "outputs": [
    {
     "ename": "IndexError",
     "evalue": "string index out of range",
     "output_type": "error",
     "traceback": [
      "\u001b[1;31m---------------------------------------------------------------------------\u001b[0m",
      "\u001b[1;31mIndexError\u001b[0m                                Traceback (most recent call last)",
      "Input \u001b[1;32mIn [75]\u001b[0m, in \u001b[0;36m<cell line: 2>\u001b[1;34m()\u001b[0m\n\u001b[0;32m      1\u001b[0m \u001b[38;5;66;03m# Part 1\u001b[39;00m\n\u001b[1;32m----> 2\u001b[0m \u001b[38;5;28mprint\u001b[39m(\u001b[43mbfs\u001b[49m\u001b[43m(\u001b[49m\u001b[43mstart\u001b[49m\u001b[43m,\u001b[49m\u001b[43m \u001b[49m\u001b[43mend\u001b[49m\u001b[43m)\u001b[49m)\n",
      "Input \u001b[1;32mIn [74]\u001b[0m, in \u001b[0;36mbfs\u001b[1;34m(start, end)\u001b[0m\n\u001b[0;32m     31\u001b[0m nr, nc \u001b[38;5;241m=\u001b[39m r \u001b[38;5;241m+\u001b[39m dr, c \u001b[38;5;241m+\u001b[39m dc\n\u001b[0;32m     32\u001b[0m \u001b[38;5;28;01mif\u001b[39;00m \u001b[38;5;241m0\u001b[39m \u001b[38;5;241m<\u001b[39m\u001b[38;5;241m=\u001b[39m nr \u001b[38;5;241m<\u001b[39m \u001b[38;5;28mlen\u001b[39m(grid) \u001b[38;5;129;01mand\u001b[39;00m \u001b[38;5;241m0\u001b[39m \u001b[38;5;241m<\u001b[39m\u001b[38;5;241m=\u001b[39m nc \u001b[38;5;241m<\u001b[39m \u001b[38;5;28mlen\u001b[39m(grid[\u001b[38;5;241m0\u001b[39m]):\n\u001b[1;32m---> 33\u001b[0m     ch \u001b[38;5;241m=\u001b[39m \u001b[43mgrid\u001b[49m\u001b[43m[\u001b[49m\u001b[43mnr\u001b[49m\u001b[43m]\u001b[49m\u001b[43m[\u001b[49m\u001b[43mnc\u001b[49m\u001b[43m]\u001b[49m\n\u001b[0;32m     34\u001b[0m     height2 \u001b[38;5;241m=\u001b[39m d[ch]\n\u001b[0;32m     35\u001b[0m     \u001b[38;5;28;01mif\u001b[39;00m height2 \u001b[38;5;241m<\u001b[39m\u001b[38;5;241m=\u001b[39m height1 \u001b[38;5;241m+\u001b[39m \u001b[38;5;241m1\u001b[39m:\n",
      "\u001b[1;31mIndexError\u001b[0m: string index out of range"
     ]
    }
   ],
   "source": [
    "# Part 1\n",
    "print(bfs(start, end))"
   ]
  },
  {
   "cell_type": "code",
   "execution_count": null,
   "id": "6d4a446d",
   "metadata": {},
   "outputs": [],
   "source": []
  }
 ],
 "metadata": {
  "kernelspec": {
   "display_name": "Python 3 (ipykernel)",
   "language": "python",
   "name": "python3"
  },
  "language_info": {
   "codemirror_mode": {
    "name": "ipython",
    "version": 3
   },
   "file_extension": ".py",
   "mimetype": "text/x-python",
   "name": "python",
   "nbconvert_exporter": "python",
   "pygments_lexer": "ipython3",
   "version": "3.9.12"
  }
 },
 "nbformat": 4,
 "nbformat_minor": 5
}
